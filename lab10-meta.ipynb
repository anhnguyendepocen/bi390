{
 "cells": [
  {
   "cell_type": "markdown",
   "metadata": {},
   "source": [
    "# Study proposal\n",
    "\n",
    "In this study, you need to explore the association of autism spectrum disorder (ASD) and variants of the OXT (oxytocin) receptor gene (OXTR) using meta-analysis.\n",
    "\n",
    "\n",
    "1. Search for the publications in Pubmed.\n",
    "\n",
    "2. Extract the data out of the publications.\n",
    "\n",
    "3. Use the R package, `meta`, to conduct a comprehensive meta-analysis on the publications."
   ]
  },
  {
   "cell_type": "markdown",
   "metadata": {
    "collapsed": true
   },
   "source": [
    "## References\n",
    "\n",
    "1. [Nature Genetics: Large-scale meta-analysis of genome-wide association data identifies six new risk loci for Parkinson's disease](http://www.nature.com/ng/journal/v46/n9/full/ng.3043.html)\n",
    "2. [Nature Genetics: Meta-analysis of genome-wide association studies identifies ten loci influencing allergic sensitization](http://www.nature.com/ng/journal/v45/n8/full/ng.2694.html)\n",
    "3. [Nature Review Genetics: Meta-analysis methods for genome-wide association studies and beyond](http://www.nature.com/nrg/journal/v14/n6/abs/nrg3472.html)\n",
    "4. [BMC Bioinformatics: GWAMA - software for genome-wide association meta-analysis](http://bmcbioinformatics.biomedcentral.com/articles/10.1186/1471-2105-11-288)\n",
    "5. [Briefing in Bioinformatics: The meta-analysis of genome-wide association studies](http://bib.oxfordjournals.org/content/12/3/259.abstract)\n",
    "6. [Future Medicine: Meta-analysis in genome-wide association studies](http://www.futuremedicine.com/doi/full/10.2217/14622416.10.2.191)"
   ]
  },
  {
   "cell_type": "code",
   "execution_count": null,
   "metadata": {
    "collapsed": true
   },
   "outputs": [],
   "source": []
  }
 ],
 "metadata": {
  "kernelspec": {
   "display_name": "R",
   "language": "R",
   "name": "ir"
  },
  "language_info": {
   "codemirror_mode": "r",
   "file_extension": ".r",
   "mimetype": "text/x-r-source",
   "name": "R",
   "pygments_lexer": "r",
   "version": "3.2.3"
  }
 },
 "nbformat": 4,
 "nbformat_minor": 0
}
