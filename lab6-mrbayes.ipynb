{
 "cells": [
  {
   "cell_type": "markdown",
   "metadata": {},
   "source": [
    "## Lab 6: Bayesian Phylogenetic Analysis\n",
    "___"
   ]
  },
  {
   "cell_type": "markdown",
   "metadata": {},
   "source": [
    "What are the most important things for a phylogenetic trees reconstruction?\n",
    "- Model\n",
    "- Data\n",
    "\n",
    "You can run in two different philosophies:\n",
    "- Maximum Likelihood: the parameters that maximizes $P(D \\vert \\Theta)$ ([RAxML](https://github.com/stamatak/standard-RAxML))\n",
    "- Bayesian approach: ([MrBayes](http://mrbayes.sourceforge.net/)) \n",
    "\n",
    "[Mesquite](http://mesquiteproject.org/mesquite/mesquite.html) is helpful for me when considering character-based topology constraints. There are lots of programs out there, but I probably use these three the most. My favorite tree viewer is [FigTree](http://tree.bio.ed.ac.uk/software/figtree/).\n",
    "\n",
    "Both RAxML and Mrbayes can run by fixing the topology constraints."
   ]
  },
  {
   "cell_type": "markdown",
   "metadata": {},
   "source": [
    "C2H2 zinc finger genes (C2H2-ZNF) constitute the largest class of transcription factors in mammals. Often arranged in clusters in the genome, these genes are thought to have undergone a massive expansion in vertebrates, primarily by tandem duplication. However, this view is based on limited datasets restricted to a single chromosome or a specific subset of genes belonging to the large KRAB domain-containing C2H2-ZNF subfamily.\n",
    "\n",
    "Here we require you to collect the C2H2-zinc-finger protein families across [29 mammalians](https://www.broadinstitute.org/mammals-models/29-mammals-project), and then conduct the phylogenetic analysis on these proteins to infer some interesting results."
   ]
  },
  {
   "cell_type": "markdown",
   "metadata": {},
   "source": [
    "You need to conduct both the maximum likelihood and Bayesian approach to find whether some of the sub-families exist in this protein family, and of the different models, you should choose the best one."
   ]
  },
  {
   "cell_type": "code",
   "execution_count": null,
   "metadata": {
    "collapsed": true
   },
   "outputs": [],
   "source": []
  }
 ],
 "metadata": {
  "kernelspec": {
   "display_name": "Bash",
   "language": "bash",
   "name": "bash"
  },
  "language_info": {
   "codemirror_mode": "shell",
   "file_extension": ".sh",
   "mimetype": "text/x-sh",
   "name": "bash"
  }
 },
 "nbformat": 4,
 "nbformat_minor": 0
}
