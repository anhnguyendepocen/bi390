{
 "cells": [
  {
   "cell_type": "markdown",
   "metadata": {},
   "source": [
    "# Chapter 9: Introduction to Deep Learning\n",
    "___"
   ]
  },
  {
   "cell_type": "markdown",
   "metadata": {},
   "source": [
    "## 1. Neural Network"
   ]
  },
  {
   "cell_type": "markdown",
   "metadata": {},
   "source": [
    "### 1.1 Neuron\n",
    "\n",
    "A neuron is the building block of the neural network, which performs a dot product with the input and its weights, adds the bias and applies the non-linear transformation (or **activation function**), in this case the sigmoid $\\sigma(z)=1/(1+e^{-z})$. We will go into more details about different activation functions at the end of this section.\n",
    "\n",
    "<img src=\"images/neuron_model.jpeg\" width=60%>\n",
    "\n",
    "$$\n",
    "\\begin{array}{lcl}\n",
    "z &=& \\mathbf{w}^T \\mathbf{x} \\\\\n",
    "y &=& \\left( 1+\\exp(-z) \\right)^{-1}\n",
    "\\end{array}\n",
    "$$"
   ]
  },
  {
   "cell_type": "code",
   "execution_count": 1,
   "metadata": {
    "collapsed": true
   },
   "outputs": [],
   "source": [
    "class Neuron(object):\n",
    "    def __init__(self, weights, bias):\n",
    "        self.weights = weights\n",
    "        self.bias = bias\n",
    "        \n",
    "    def forward(self, input):\n",
    "        z = np.sum(self.weights * inputs) + self.bias\n",
    "        return 1.0 / (1.0 + np.exp(-z))"
   ]
  },
  {
   "cell_type": "markdown",
   "metadata": {},
   "source": [
    "## 1.2 Activation functions\n",
    "\n",
    "Every activation function takes a scalar as input and performs a certain mathematical operation on it. In practice, there are several popular activation functions:\n",
    "\n",
    "- **Sigmoid function**: $\\sigma(z) = 1 / (1 + e^{-z})$\n",
    "![](images/sigmoid.jpeg)\n",
    "- Two major drawbacks of Sigmoid function\n",
    "    1. Sigmoids saturate and kill gradients\n",
    "    2. Sigmoid ouputs are not zero-centered.\n",
    "\n",
    "- **tanh function**: $f(z) = 2\\sigma(z) - 1$\n",
    "![](images/tanh.jpeg)\n",
    "\n",
    "- **ReLU (Rectified Linear Unit, 修正线性单元)**: $f(z) = \\max(0, z)$\n",
    "![](images/relu.jpeg)\n",
    "- Pros and cons of ReLU:\n",
    "    * Accelerated convergence of SGD compared to sigmoid/tanh.\n",
    "    * Simpler computation of linear thresholding compared to the expensive exponential for sigmoid/tanh.\n",
    "    * No saturation.\n",
    "    * Fragile to be \"dead\" during training.\n",
    "    \n",
    "- **Leaky ReLU**: $f(z) = \\alpha z \\mathbf{I}(z < 0) + z \\mathbf{I}(z \\ge 0)$\n",
    "    * $\\alpha$ is a very small constant.\n",
    "    * $\\mathbf{I}(\\cdot)$ is an indicator function.\n",
    "    * The result is not always consistent.\n",
    "\n",
    "- **Maxout**: $f(x) = \\max(\\mathbf{w}_1^T \\mathbf{x} + b_1, \\mathbf{w}_2^T \\mathbf{x} + b_2)$\n",
    "    * Extension to ReLU and Leaky-ReLU\n",
    "    * Pros: Linear regime, no saturation, no \"dying\" threat\n",
    "    * Cons: doubling the number of parameters.\n",
    "    \n",
    "#### Take-home messages\n",
    "\n",
    "Use the ReLU non-linearity, be careful with your learning rates and possibly monitor the fraction of \"dead\" units in a network. If this concerns you, give Leaky ReLU or Maxout a try. Never use sigmoid. Try tanh, but expect it to work worse than ReLU/Maxout."
   ]
  },
  {
   "cell_type": "markdown",
   "metadata": {},
   "source": [
    "### 1.3  Neural network architectures\n",
    "\n",
    "A common neural network is a hierarchical strucuture with neurons organized as multiple layers. For regular neural networks, the most common layer type is the **fully-connected (FC, 全连接) layer** in which neurons between two adjacent layers are fully pairwise connected, but neurons within a single layer share no connections. \n",
    "\n",
    "Below are two example Neural Network topologies that use a stack of fully-connected layers:\n",
    "\n",
    "#### Two-layer neural network\n",
    "<img src=\"images/two-layer-neural_net.jpeg\" width=40%>\n",
    "This two-layer neural net has $4 + 2 = 6$ neurons (not counting the inputs),  $[3 \\times 4] + [4 \\times 2] = 20$ weights and $4 + 2 = 6$ biases, for a total of $26$ learnable parameters.\n",
    "\n",
    "#### Three-layer neural network\n",
    "<img src=\"images/three-layer-neural_net.jpeg\" width=50%>\n",
    "This three-layer neural net has $4 + 4 + 1 = 9$ neurons (not counting the inputs),  $[3 \\times 4] + [4 \\times 4] + [4 \\times 1] = 32$ weights and $4 + 4 + 1 = 9$ biases, for a total of $41$ learnable parameters."
   ]
  },
  {
   "cell_type": "markdown",
   "metadata": {},
   "source": [
    "### 1.4 Feed-forward computation\n",
    "\n",
    "For the above three-layer neural net:\n",
    "- The input is $\\mathbf{x} \\in \\mathbb{R}^3$\n",
    "- The weights between the input layer and the first hidden layer is $\\mathbf{W}_1 \\in \\mathbb{R}^{4 \\times 3}$; and the biases between these two layers is $\\mathbf{b}_1 \\in \\mathbb{R}^4$ \n",
    "- The weights between the two hidden layers is $\\mathbf{W}_2 \\in \\mathbb{R}^{4 \\times 4}$; and the biases between these two hidden layers is $\\mathbf{b}_2 \\in \\mathbb{R}^4$\n",
    "- The weights between the second hidden layer and the output layer is $\\mathbf{W}_3 \\in \\mathbb{R}^{1 \\times 4}$; and the bias is $\\mathbf{b} \\in \\mathbb{R}$.\n",
    "\n",
    "The output for the first hidden layer is:\n",
    "$$\n",
    "\\mathbf{h}_1 = \\sigma \\left(\\mathbf{W}_1 \\mathbf{x} + \\mathbf{b}_1 \\right)\n",
    "$$\n",
    "The output for the second hidden layer is:\n",
    "$$\n",
    "\\mathbf{h}_2 = \\sigma \\left(\\mathbf{W}_2 \\mathbf{h}_1 + \\mathbf{b}_2 \\right)\n",
    "$$\n",
    "The output for the output layer is:\n",
    "$$\n",
    "\\mathbf{o} = \\sigma \\left(\\mathbf{W}_3 \\mathbf{h}_2 + \\mathbf{b}_3 \\right)\n",
    "$$"
   ]
  },
  {
   "cell_type": "code",
   "execution_count": 3,
   "metadata": {
    "collapsed": false
   },
   "outputs": [
    {
     "name": "stdout",
     "output_type": "stream",
     "text": [
      "[[ 2.3012188]]\n"
     ]
    }
   ],
   "source": [
    "import numpy as np\n",
    "\n",
    "# forward-pass of a 3-layer neural network:\n",
    "f = lambda x: 1.0/(1.0 + np.exp(-x)) # activation function (use sigmoid)\n",
    "x = np.random.randn(3, 1) # random input vector of three numbers (3x1)\n",
    "W1 = np.random.randn(4, 3)\n",
    "b1 = np.random.randn(4, 1)\n",
    "h1 = f(np.dot(W1, x) + b1) # calculate first hidden layer activations (4x1)\n",
    "W2 = np.random.randn(4, 4)\n",
    "b2 = np.random.randn(4, 1)\n",
    "h2 = f(np.dot(W2, h1) + b2) # calculate second hidden layer activations (4x1)\n",
    "W3 = np.random.randn(1, 4)\n",
    "b3 = np.random.randn(1)\n",
    "out = np.dot(W3, h2) + b3 # output neuron (1x1)\n",
    "print out"
   ]
  },
  {
   "cell_type": "markdown",
   "metadata": {},
   "source": [
    "## 1.5 Setting numbers of layers and the sizes\n",
    "\n",
    "If we increase the size (number of hidden nodes) and the number of layers, the **capacity能力** of the neural network also increases.\n",
    "<img src=\"images/layer_sizes.jpeg\" width=80%>\n",
    "\n",
    "However, increasing the size and the number of layer may result in **overfitting 过拟合** (i.e., bad generalization 泛化能力差).\n",
    "\n",
    "However, <font color=\"red\">you should not be using smaller networks to avoid overfitting</font>. Instead, you should use as big of a neural network as your computational budget allows, and pose other **regularization 正则化**  (especially **dropout 神经元失活**) to control overfitting."
   ]
  },
  {
   "cell_type": "markdown",
   "metadata": {},
   "source": [
    "### 1.6 Setting up the data and the model\n",
    "\n",
    "- The recommended preprocessing is to conduct the **mean-subtraction** to center the data to zero, and do **normalization** of its scale to [-1, 1] along each feature.\n",
    "- **Initialize the weights** by drawing them from a gaussian distribution with standard deviation of $2/n$ - $\\sqrt{2/n}$, where $n$ is the number of inputs to the neuron.\n",
    "- Use L2 regularization and dropout (the inverted version).\n",
    "- Use batch normalization."
   ]
  },
  {
   "cell_type": "markdown",
   "metadata": {},
   "source": [
    "### 1.7 Case study\n",
    "\n",
    "In this section we'll walk through a complete implementation of a toy Neural Network in 2-D space. We'll first implement a simple linear classifier and then extend the code to a 2-layer Neural Network. As we'll see, this extension is surprisingly simple and very few changes are necessary."
   ]
  },
  {
   "cell_type": "markdown",
   "metadata": {},
   "source": [
    "#### (1) Generating a spiral dataset"
   ]
  },
  {
   "cell_type": "code",
   "execution_count": 4,
   "metadata": {
    "collapsed": false
   },
   "outputs": [
    {
     "data": {
      "text/plain": [
       "<matplotlib.collections.PathCollection at 0x7f6a92131450>"
      ]
     },
     "execution_count": 4,
     "metadata": {},
     "output_type": "execute_result"
    },
    {
     "data": {
      "image/png": "[encoded data removed]",
      "text/plain": [
       "<matplotlib.figure.Figure at 0x7f6a972a4110>"
      ]
     },
     "metadata": {},
     "output_type": "display_data"
    }
   ],
   "source": [
    "%matplotlib inline\n",
    "import numpy as np\n",
    "import matplotlib.pyplot as plt\n",
    "N = 100 # number of points per class\n",
    "D = 2 # dimensionality\n",
    "K = 3 # number of classes\n",
    "X = np.zeros((N*K,D)) # data matrix (each row = single example)\n",
    "y = np.zeros(N*K, dtype='uint8') # class labels\n",
    "for j in xrange(K):\n",
    "  ix = range(N*j,N*(j+1))\n",
    "  r = np.linspace(0.0,1,N) # radius\n",
    "  t = np.linspace(j*4,(j+1)*4,N) + np.random.randn(N)*0.2 # theta\n",
    "  X[ix] = np.c_[r*np.sin(t), r*np.cos(t)]\n",
    "  y[ix] = j\n",
    "# visualize the data:\n",
    "plt.scatter(X[:, 0], X[:, 1], c=y, s=40, cmap=plt.cm.Spectral)"
   ]
  },
  {
   "cell_type": "markdown",
   "metadata": {},
   "source": [
    "For this data set:\n",
    "- $\\mathbf{X} \\in \\mathbb{R}^{300 \\times 2}$;\n",
    "- The weight matrix $\\mathbf{W} \\in \\mathbb{R}^{2 \\time 3}$;\n",
    "- The output score $\\mathbf{Z} = \\mathbf{XW}  + \\mathbf{b} \\in \\mathbb{R}^{300 \\times 3}$\n",
    "- The output probabilities for the $i$-th example belonging to class $k=\\{1, 2, 3\\}$ is: \n",
    "$$\n",
    "p_{ik} = \\frac{\\exp(ik)}{\\sum_{j=1}^3 \\exp(z_{ij})}\n",
    "$$\n",
    "- The label for the $i$-th example is $y_i \\in \\{1, 2, 3\\}$\n",
    "- We use **cross-entropy loss (交叉熵损失)** to evaluate the classifier\n",
    "$$\n",
    "L_i = \\log(p_{iy_i})\n",
    "$$\n",
    "- And the final average cross-entropy loss with regularization term is:\n",
    "$$\n",
    "L = \\frac{1}{300} \\sum_{i=1}^{300} L_i + \\frac{1}{2} \\lambda \\sum_k \\sum_l w_{k,l}^2\n",
    "$$\n",
    "- Then we can compute the gradient of $L$ with respect to $\\mathbf{Z}$, $\\mathbf{W}$ and $\\mathbf{b}$."
   ]
  },
  {
   "cell_type": "markdown",
   "metadata": {},
   "source": [
    "#### (2) Data preprocessing\n",
    "\n",
    "Normally we would want to preprocess the dataset so that each feature has zero-mean and unit standard deviation, but in this case the features are already in a nice range from -1 to 1, so we skip this step."
   ]
  },
  {
   "cell_type": "markdown",
   "metadata": {},
   "source": [
    "#### (3) Training a softmax linear classifier\n",
    "\n",
    "First we need to initiate the parameters:"
   ]
  },
  {
   "cell_type": "code",
   "execution_count": 5,
   "metadata": {
    "collapsed": true
   },
   "outputs": [],
   "source": [
    "# initialize parameters randomly\n",
    "W = 0.01 * np.random.randn(D,K)\n",
    "b = np.zeros((1,K))"
   ]
  },
  {
   "cell_type": "markdown",
   "metadata": {},
   "source": [
    "With the parameters, compute the class scores: "
   ]
  },
  {
   "cell_type": "code",
   "execution_count": 6,
   "metadata": {
    "collapsed": true
   },
   "outputs": [],
   "source": [
    "# compute class scores for a linear classifier\n",
    "scores = np.dot(X, W) + b"
   ]
  },
  {
   "cell_type": "markdown",
   "metadata": {},
   "source": [
    "Here the array `scores` will have size $[300 \\times 3]$, where each row gives the class scores corresponding to the 3 classes (blue, red, yellow)."
   ]
  },
  {
   "cell_type": "markdown",
   "metadata": {},
   "source": [
    "Using the scores, we can compute the loss for optimization:"
   ]
  },
  {
   "cell_type": "code",
   "execution_count": 11,
   "metadata": {
    "collapsed": false
   },
   "outputs": [
    {
     "name": "stdout",
     "output_type": "stream",
     "text": [
      "Iteration 0: loss 0.762615\n",
      "Iteration 10: loss 0.762594\n",
      "Iteration 20: loss 0.762578\n",
      "Iteration 30: loss 0.762567\n",
      "Iteration 40: loss 0.762559\n",
      "Iteration 50: loss 0.762553\n",
      "Iteration 60: loss 0.762549\n",
      "Iteration 70: loss 0.762546\n",
      "Iteration 80: loss 0.762543\n",
      "Iteration 90: loss 0.762542\n",
      "Iteration 100: loss 0.762540\n",
      "Iteration 110: loss 0.762540\n",
      "Iteration 120: loss 0.762539\n",
      "Iteration 130: loss 0.762538\n",
      "Iteration 140: loss 0.762538\n",
      "Iteration 150: loss 0.762538\n",
      "Iteration 160: loss 0.762538\n",
      "Iteration 170: loss 0.762537\n",
      "Iteration 180: loss 0.762537\n",
      "Iteration 190: loss 0.762537\n",
      "Iteration 200: loss 0.762537\n",
      "Iteration 210: loss 0.762537\n",
      "Iteration 220: loss 0.762537\n",
      "Iteration 230: loss 0.762537\n",
      "Iteration 240: loss 0.762537\n",
      "Iteration 250: loss 0.762537\n",
      "Iteration 260: loss 0.762537\n",
      "Iteration 270: loss 0.762537\n",
      "Iteration 280: loss 0.762537\n",
      "Iteration 290: loss 0.762537\n",
      "Iteration 300: loss 0.762537\n",
      "Iteration 310: loss 0.762537\n",
      "Iteration 320: loss 0.762537\n",
      "Iteration 330: loss 0.762537\n",
      "Iteration 340: loss 0.762537\n",
      "Iteration 350: loss 0.762537\n",
      "Iteration 360: loss 0.762537\n",
      "Iteration 370: loss 0.762537\n",
      "Iteration 380: loss 0.762537\n",
      "Iteration 390: loss 0.762537\n"
     ]
    }
   ],
   "source": [
    "# some hyperparameters\n",
    "step_size = 1e-0\n",
    "reg = 1e-3               # regularization strength $\\lambda$\n",
    "\n",
    "# gradient descent loop\n",
    "num_examples = X.shape[0]\n",
    "for i in xrange(400):\n",
    "    \n",
    "    # evaluate class scores, [N x K]\n",
    "    scores = np.dot(X, W) + b\n",
    "    \n",
    "    # compute the class prob\n",
    "    exp_scores = np.exp(scores)\n",
    "    probs = exp_scores / np.sum(exp_scores, axis=1, keepdims=True) # [N x K]\n",
    "    \n",
    "    \n",
    "    # Compute the loss average cross-entropy loss and regularization\n",
    "    corect_logprobs = -np.log(probs[range(num_examples), y])\n",
    "    data_loss = np.sum(corect_logprobs)/num_examples\n",
    "    reg_loss = 0.5*reg*np.sum(W*W)\n",
    "    loss = data_loss + reg_loss\n",
    "    \n",
    "    if i % 10 == 0:\n",
    "        print \"Iteration %d: loss %f\" %(i, loss)\n",
    "        \n",
    "    # compute the gradient on scores\n",
    "    dscores = probs\n",
    "    dscores[range(num_examples), y] -= 1\n",
    "    dscores /= num_examples\n",
    "    \n",
    "    # backpropagate the gradient to the parameters  (W, b)\n",
    "    dW = np.dot(X.T, dscores)\n",
    "    db = np.sum(dscores, axis=0, keepdims=True)\n",
    "    \n",
    "    dW += reg*W  # regularization gradient\n",
    "    \n",
    "    # Perform a parameter update\n",
    "    W += -step_size * dW\n",
    "    b += -step_size * db"
   ]
  },
  {
   "cell_type": "markdown",
   "metadata": {},
   "source": [
    "now we can evaluate the **training set accuracy**."
   ]
  },
  {
   "cell_type": "code",
   "execution_count": 12,
   "metadata": {
    "collapsed": false
   },
   "outputs": [
    {
     "name": "stdout",
     "output_type": "stream",
     "text": [
      "training accuracy: 0.52\n"
     ]
    }
   ],
   "source": [
    "# evaluate training set accuracy\n",
    "scores = np.dot(X, W) + b\n",
    "predicted_class = np.argmax(scores, axis=1)\n",
    "print 'training accuracy: %.2f' % (np.mean(predicted_class == y))"
   ]
  },
  {
   "cell_type": "markdown",
   "metadata": {},
   "source": [
    "And this is the diagram of classification margins:\n",
    "<img src=\"images/spiral_linear.png\" width=50%>"
   ]
  },
  {
   "cell_type": "markdown",
   "metadata": {},
   "source": [
    "## <font color=\"red\">Exercise 1</font>\n",
    "1. The training accuracy is so low for the above linear classifier - softmax, can you improve it by including more basis functions, like second-order, or even the third-order terms into the model?\n",
    "\n",
    "2. In practice, we often use cross-validation (CV) to test the accuracy of the classifiers. Here, try to use 5-fold cross validation to compute the prediction accuracy of this classifier."
   ]
  },
  {
   "cell_type": "markdown",
   "metadata": {},
   "source": [
    "#### (4) Training a 2-layer neural network"
   ]
  },
  {
   "cell_type": "code",
   "execution_count": 13,
   "metadata": {
    "collapsed": false
   },
   "outputs": [
    {
     "name": "stdout",
     "output_type": "stream",
     "text": [
      "iteration 0: loss 1.098724\n",
      "iteration 1000: loss 0.312690\n",
      "iteration 2000: loss 0.256362\n",
      "iteration 3000: loss 0.249350\n",
      "iteration 4000: loss 0.248308\n",
      "iteration 5000: loss 0.248183\n",
      "iteration 6000: loss 0.251487\n",
      "iteration 7000: loss 0.248855\n",
      "iteration 8000: loss 0.246873\n",
      "iteration 9000: loss 0.247030\n"
     ]
    }
   ],
   "source": [
    "# initialize parameters randomly\n",
    "h = 100 # size of hidden layer\n",
    "W = 0.01 * np.random.randn(D,h)\n",
    "b = np.zeros((1,h))\n",
    "W2 = 0.01 * np.random.randn(h,K)\n",
    "b2 = np.zeros((1,K))\n",
    "\n",
    "# some hyperparameters\n",
    "step_size = 1e-0\n",
    "reg = 1e-3 # regularization strength\n",
    "\n",
    "# gradient descent loop\n",
    "num_examples = X.shape[0]\n",
    "for i in xrange(10000):\n",
    "  \n",
    "  # evaluate class scores, [N x K]\n",
    "  hidden_layer = np.maximum(0, np.dot(X, W) + b) # note, ReLU activation\n",
    "  scores = np.dot(hidden_layer, W2) + b2\n",
    "  \n",
    "  # compute the class probabilities\n",
    "  exp_scores = np.exp(scores)\n",
    "  probs = exp_scores / np.sum(exp_scores, axis=1, keepdims=True) # [N x K]\n",
    "  \n",
    "  # compute the loss: average cross-entropy loss and regularization\n",
    "  corect_logprobs = -np.log(probs[range(num_examples),y])\n",
    "  data_loss = np.sum(corect_logprobs)/num_examples\n",
    "  reg_loss = 0.5*reg*np.sum(W*W) + 0.5*reg*np.sum(W2*W2)\n",
    "  loss = data_loss + reg_loss\n",
    "  if i % 1000 == 0:\n",
    "    print \"iteration %d: loss %f\" % (i, loss)\n",
    "  \n",
    "  # compute the gradient on scores\n",
    "  dscores = probs\n",
    "  dscores[range(num_examples),y] -= 1\n",
    "  dscores /= num_examples\n",
    "  \n",
    "  # backpropate the gradient to the parameters\n",
    "  # first backprop into parameters W2 and b2\n",
    "  dW2 = np.dot(hidden_layer.T, dscores)\n",
    "  db2 = np.sum(dscores, axis=0, keepdims=True)\n",
    "  # next backprop into hidden layer\n",
    "  dhidden = np.dot(dscores, W2.T)\n",
    "  # backprop the ReLU non-linearity\n",
    "  dhidden[hidden_layer <= 0] = 0\n",
    "  # finally into W,b\n",
    "  dW = np.dot(X.T, dhidden)\n",
    "  db = np.sum(dhidden, axis=0, keepdims=True)\n",
    "  \n",
    "  # add regularization gradient contribution\n",
    "  dW2 += reg * W2\n",
    "  dW += reg * W\n",
    "  \n",
    "  # perform a parameter update\n",
    "  W += -step_size * dW\n",
    "  b += -step_size * db\n",
    "  W2 += -step_size * dW2\n",
    "  b2 += -step_size * db2"
   ]
  },
  {
   "cell_type": "code",
   "execution_count": 14,
   "metadata": {
    "collapsed": false
   },
   "outputs": [
    {
     "name": "stdout",
     "output_type": "stream",
     "text": [
      "training accuracy: 0.98\n"
     ]
    }
   ],
   "source": [
    "# evaluate training set accuracy\n",
    "hidden_layer = np.maximum(0, np.dot(X, W) + b)\n",
    "scores = np.dot(hidden_layer, W2) + b2\n",
    "predicted_class = np.argmax(scores, axis=1)\n",
    "print 'training accuracy: %.2f' % (np.mean(predicted_class == y))"
   ]
  },
  {
   "cell_type": "markdown",
   "metadata": {},
   "source": [
    "<img src=\"images/spiral_net.png\" width=60%>"
   ]
  },
  {
   "cell_type": "markdown",
   "metadata": {},
   "source": [
    "## <font color=\"red\">Exercise 2</font>\n",
    "\n",
    "Do you think we need to add more layer to improve the performance, although it seems that it is already very good? To validate the model, you'd better use a 5-fold cross-validation to obtain the prediction accuracy."
   ]
  },
  {
   "cell_type": "markdown",
   "metadata": {},
   "source": [
    "## 2. Convolutional Neural Network (CNN) "
   ]
  },
  {
   "cell_type": "markdown",
   "metadata": {
    "collapsed": true
   },
   "source": []
  },
  {
   "cell_type": "markdown",
   "metadata": {},
   "source": [
    "## 3. Recurrent Neural Network (RNN)"
   ]
  },
  {
   "cell_type": "markdown",
   "metadata": {
    "collapsed": true
   },
   "source": []
  }
 ],
 "metadata": {
  "kernelspec": {
   "display_name": "Python [default]",
   "language": "python",
   "name": "python2"
  },
  "language_info": {
   "codemirror_mode": {
    "name": "ipython",
    "version": 2
   },
   "file_extension": ".py",
   "mimetype": "text/x-python",
   "name": "python",
   "nbconvert_exporter": "python",
   "pygments_lexer": "ipython2",
   "version": "2.7.12"
  }
 },
 "nbformat": 4,
 "nbformat_minor": 0
}
