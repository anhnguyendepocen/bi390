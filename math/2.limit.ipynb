{
 "cells": [
  {
   "cell_type": "markdown",
   "metadata": {},
   "source": [
    "# 第二讲：极限（Limit）\n",
    "___"
   ]
  },
  {
   "cell_type": "markdown",
   "metadata": {},
   "source": [
    "## 1. 序列极限的定义\n",
    "\n",
    "柯西（Cauchy）给出了极限的定义（这是一个非常巨大的贡献，虽然我们现在看起来似乎非常简单）：\n",
    "\n",
    "对于序列$\\{x_n\\}$，如果存在常数$l$，使得对于$\\forall \\epsilon >0, \\exists N \\in \\mathbb{N}$，对$n>N$, 有\n",
    "$$\n",
    "\\lvert x_n - l \\rvert < \\epsilon\n",
    "$$\n",
    "则称序列是__收敛的（convergent）__，并且称$l$为该序列的__极限__（或称序列__收敛于__$l$），记作：\n",
    "$$\n",
    "\\lim_{n \\to \\infty} x_n = l\n",
    "$$\n",
    "\n",
    "也就是说，当$n$足够大的时候，$x_n$会落在$l$的无穷小邻域$U(l,\\epsilon)=(l-\\epsilon, l+\\epsilon)$中。\n",
    "\n",
    "如果不存在这样一个$l$，则称该序列$\\{x_n\\}$是__发散的（diverent）__。\n",
    "\n",
    "单调有界的实数序列一定存在极限。"
   ]
  },
  {
   "cell_type": "markdown",
   "metadata": {},
   "source": [
    "## 2. 序列极限的夹逼定理\n",
    "\n",
    "因为很简单，所以这里略去这一段。"
   ]
  },
  {
   "cell_type": "markdown",
   "metadata": {},
   "source": [
    "## <font color='blue'>$\\S$练习题</font>\n",
    "\n",
    "计算$\\lim_{n \\to \\infty}(x_1^n + \\ldots + x_m^n)^{1/n}$"
   ]
  },
  {
   "cell_type": "markdown",
   "metadata": {},
   "source": [
    "## 3. 重要的序列极限\n",
    "\n",
    "### $x_n = (1+\\frac{1}{n})^n$和$y_n = (1+\\frac{1}{n})^{n+1}$\n",
    "\n",
    "- 首先有$y_n = (1+\\frac{1}{n})x_n > x_n$\n",
    "\n",
    "- 其次有$\\frac{x_{n+1}}{x_n} = \\left[ 1 - \\frac{1}{(n+1)^2}\\right]^{n+1} \\frac{n+1}{n} > \\left[ 1 - \\frac{1}{n+1}\\right]^{n+1} \\frac{n+1}{n} \\geq (1-(n+1)\\frac{1}{n+1})\\frac{n+1}{n} > 1$（倒数第二个不等式是根据伯努利不等式$(1+x)^n \\ge 1+nx$，当$x>-1$），所以$x_n$是严格单调递增序列。\n",
    "\n",
    "- 同样我们可以得到$\\frac{y_{n}}{y_{n+1}} > 1$，所以$y_n$是严格单调递减序列。\n",
    "\n",
    "- 这样我们有$2 = x_1 < \\ldots < x_n < y_n < \\ldots < y_1 = 4$\n",
    "\n",
    "此外，很明显，$\\{x_n\\}$和$\\{y_n\\}$都收敛到同一个值，我们将其定义为$\\lim_{n \\to \\infty}x_n = \\lim_{n \\to \\infty}y_n = e$，也就是自然对数的底(base)，自然常数。\n",
    "\n",
    "于是乃有$(1+\\frac{1}{n})^n < e < (1+\\frac{1}{n})^{n+1}$，取自然对数后得到\n",
    "$$\n",
    "n \\ln(1+\\frac{1}{n}) < 1 < (n+1)\\ln(1+\\frac{1}{n}) \\Rightarrow \\frac{1}{n+1} < \\ln(1+\\frac{1}{n}) < \\frac{1}{n}\n",
    "$$\n",
    "\n",
    "对于$k=1,\\ldots, n$的和，不等式同样成立：\n",
    "$$\n",
    "\\sum_{k=1}^n \\frac{1}{k+1} < \\sum_{k=1}^n (\\ln(k+1) - \\ln(k)) < \\sum_{k=1}^n \\frac{1}{k}\n",
    "$$\n",
    "不等式中间的部分可以重写后得到，\n",
    "$$\n",
    "\\sum_{k=1}^n \\frac{1}{k+1} < \\ln (n+1) < \\sum_{k=1}^n \\frac{1}{k}\n",
    "$$\n",
    "\n",
    "从这个我们就得到了第二个重要的极限：\n",
    "\n",
    "### 欧拉常数$c = \\lim_{n \\to \\infty} (1+\\frac{1}{2}+\\ldots+\\frac{1}{n}-\\ln n)$\n",
    "\n",
    "设$z_n = \\lim_{n \\to \\infty} (1+\\frac{1}{2}+\\ldots+\\frac{1}{n}-\\ln n)$，由上面的式子我们可以判断$\\{z_n\\}$是单调递减序列，且有$z_n > 0$，由此我们知道数列极限存在（单调有界序列，极限必然存在）。"
   ]
  },
  {
   "cell_type": "markdown",
   "metadata": {},
   "source": [
    "## <font color='blue'>$\\S$练习题</font>\n",
    "\n",
    "- (1) 求极限$\\lim_{n \\to \\infty} (1-\\frac{1}{n})^n$\n",
    "\n",
    "因为\n",
    "$$\n",
    "(1-\\frac{1}{n})^n = (1+\\frac{1}{n-1})^{-(n-1)-1} = \\left[(1+\\frac{1}{n-1})^{n-1}\\right]^{-1} (1+\\frac{1}{n-1})^{-1}\n",
    "$$\n",
    "所以$\\lim_{n \\to \\infty} (1-\\frac{1}{n})^n = e^{-1}$\n",
    "\n",
    "- (2) 求极限$\\lim_{n \\to \\infty} (1+\\frac{1}{n})^{-2n}$\n",
    "\n",
    "不难得到$\\lim_{n \\to \\infty} (1+\\frac{1}{n})^{-2n} = e^{-2}$\n",
    "\n",
    "- (3) 求极限$\\lim_{n \\to \\infty} (1-\\frac{1}{n})^{n^2}$\n",
    "\n",
    "由于$(1-\\frac{1}{n})^{n^2} = \\left[ (1-\\frac{1}{n})^n \\right]^n$, \n",
    "\n",
    "当$n>N$时，存在某个$q<1$， 满足$0 < (1-\\frac{1}{n})^n < q$，则有\n",
    "$$\n",
    "0^n < \\left[ (1-\\frac{1}{n})^n \\right]^n < q^n\n",
    "$$\n",
    "\n",
    "按照夹逼定理，有$\\lim_{n \\to \\infty} (1-\\frac{1}{n})^{n^2} = 0$\n",
    "\n",
    "- (4) 求极限$\\lim_{n \\to \\infty} (1-\\frac{1}{n^2})^n$\n",
    "\n",
    "可将上式分解为$(1+\\frac{1}{n})^n (1-\\frac{1}{n})^n$，则不难得出极限为1。"
   ]
  },
  {
   "cell_type": "markdown",
   "metadata": {},
   "source": [
    "## 4. 函数极限\n",
    "\n",
    "函数极限与序列的极限有不同之处，但也有相同的地方。"
   ]
  },
  {
   "cell_type": "markdown",
   "metadata": {},
   "source": [
    "## 5. 重要的函数极限\n",
    "\n",
    "- (1) $\\lim_{x \\to \\infty}(1+\\frac{1}{x})^x = e$\n",
    "\n",
    "- (2) $\\lim_{x \\to 0} \\frac{\\sin x}{x} = 1$"
   ]
  },
  {
   "cell_type": "markdown",
   "metadata": {},
   "source": [
    "## 6. 常用等价关系无穷小量\n",
    "\n",
    "当$x \\to 0$时，\n",
    "- $\\sin x \\sim x$, $\\sin x = x + o(x)$\n",
    "- $1-\\cos x \\sim \\frac{1}{2}x^2$, $\\cos x = 1 - \\frac{1}{2}x^2 + o(x)$\n",
    "- $\\tan x \\sim x$, $\\tan x = x + o(x)$\n",
    "- $\\arcsin x \\sim x$, $\\arcsin x = x + o(x)$\n",
    "- $\\ln (1 + x) \\sim x$, $\\ln(1+x) = x + o(x)$\n",
    "- $e^x - 1 \\sim x$, $e^x = 1 + x + o(x)$\n",
    "- $(1+x)^{\\mu} - 1 \\sim \\mu x$, $(1+x)^{\\mu} = 1 + \\mu x + o(x)$\n",
    "\n",
    "此外还有一组重要的阶的比较关系：\n",
    "\n",
    "当$x \\to +\\infty$时，\n",
    "$$\n",
    "\\ln x < x^{a_1} < x^{a_2} < b^{x} < x! < x^x， \\forall a_2 > a_1 > 0, b>0\n",
    "$$\n",
    "注意这里的$<$符号仅仅表示阶的大小关系，而非数值的。"
   ]
  },
  {
   "cell_type": "markdown",
   "metadata": {},
   "source": [
    "## 7. 函数的连续性\n",
    "\n",
    "函数连续、函数左连续、函数右连续"
   ]
  }
 ],
 "metadata": {
  "kernelspec": {
   "display_name": "Python 2",
   "language": "python",
   "name": "python2"
  },
  "language_info": {
   "codemirror_mode": {
    "name": "ipython",
    "version": 2
   },
   "file_extension": ".py",
   "mimetype": "text/x-python",
   "name": "python",
   "nbconvert_exporter": "python",
   "pygments_lexer": "ipython2",
   "version": "2.7.11"
  }
 },
 "nbformat": 4,
 "nbformat_minor": 0
}
