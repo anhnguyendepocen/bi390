{
 "cells": [
  {
   "cell_type": "markdown",
   "metadata": {},
   "source": [
    "# 第十一讲：矩阵（matrix）\n",
    "___"
   ]
  },
  {
   "cell_type": "markdown",
   "metadata": {},
   "source": [
    "## 1. 矩阵的定义和性质\n",
    "\n",
    "矩阵的表示方法：$\\mathbf{A} \\in \\mathbb{R}^{m \\times n}$\n",
    "\n",
    "矩阵中的元素：$a_{ij} = \\mathbf{A}(i;j)$\n",
    "\n",
    "方阵、矩阵的转置(transpose)\n",
    "\n",
    "矩阵的初等变换有哪些？行初等变换、列初等变换"
   ]
  },
  {
   "cell_type": "markdown",
   "metadata": {},
   "source": [
    "## 2. 方阵的行列式（determinant）\n",
    "\n",
    "二阶行列式的几何意义：平行四边形的面积\n",
    "\n",
    "三阶行列式的几何意义：平行六面体的体积\n",
    "\n",
    "按照拉普拉斯的定义，$n$阶行列式是定义在$n$阶方阵上的运算。\n",
    "\n",
    "### 2.1 代数余子式的定义\n",
    "\n",
    "__余子式__就是元素$a_{ij}$除去当前行和当前列的$n-1$阶方阵的行列式，记为$M_{ij}$。\n",
    "\n",
    "而代数余子式为$\\mathbf{A}_{ij} = (-1)^{i+j} M_{ij}$。\n",
    "\n",
    "### 2.2 方阵行列式的代数余子式表示方法（拉普拉斯展开）\n",
    "$$\n",
    "\\det (\\mathbf{A}) = \\lvert \\mathbf{A} \\rvert = \\sum_{j=1}^n a_{ij}A_{ij} \n",
    "$$\n",
    "\n",
    "### 2.3 特殊矩阵的行列式\n",
    "\n",
    "上三角矩阵、下三角矩阵、对角矩阵、反对角矩阵"
   ]
  },
  {
   "cell_type": "code",
   "execution_count": null,
   "metadata": {
    "collapsed": true
   },
   "outputs": [],
   "source": []
  }
 ],
 "metadata": {
  "kernelspec": {
   "display_name": "Python 2",
   "language": "python",
   "name": "python2"
  },
  "language_info": {
   "codemirror_mode": {
    "name": "ipython",
    "version": 2
   },
   "file_extension": ".py",
   "mimetype": "text/x-python",
   "name": "python",
   "nbconvert_exporter": "python",
   "pygments_lexer": "ipython2",
   "version": "2.7.11"
  }
 },
 "nbformat": 4,
 "nbformat_minor": 0
}
