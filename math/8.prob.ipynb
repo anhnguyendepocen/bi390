{
 "cells": [
  {
   "cell_type": "markdown",
   "metadata": {},
   "source": [
    "# 第八讲：概率 （probability）\n",
    "___"
   ]
  },
  {
   "cell_type": "markdown",
   "metadata": {},
   "source": [
    "## 1. 事件及其概率运算\n",
    "\n",
    "随机事件、事件发生的概率（样本点法、相对面积、相对体积等的表示）\n",
    "\n",
    "古典概型\n",
    "\n",
    "几何概型\n",
    "\n",
    "特别要注意的就是布丰投针计算圆周率$\\pi$的计算理论:\n",
    "\n",
    "(1) 若干条平行线，平行线之间的距离为$a$，针的长度为$l$， 且有$l < a$；\n",
    "(2) 将针投向平行线，针与平行线相交的概率是多少？\n",
    "\n",
    "设投下去的针与平行线的夹角是$\\phi \\in [0, \\pi]$，如果需要针与平行线相交，则针的中点到平行线的距离必须小于$\\frac{l}{2}\\sin \\phi$，则相交的概率就是\n",
    "$$\n",
    "p = \\frac{\\int_{0}^{\\pi}\\frac{l/2 \\sin \\phi}{a/2} d\\phi}{\\int_0^{\\pi}d\\phi} = \\frac{2l}{\\pi a}\n",
    "$$\n",
    "\n",
    "用图形表示就是："
   ]
  },
  {
   "cell_type": "code",
   "execution_count": 1,
   "metadata": {
    "collapsed": true
   },
   "outputs": [],
   "source": [
    "import numpy as np\n",
    "import matplotlib.pyplot as plt\n",
    "%matplotlib inline"
   ]
  },
  {
   "cell_type": "code",
   "execution_count": 13,
   "metadata": {
    "collapsed": false
   },
   "outputs": [
    {
     "data": {
      "image/png": "[encoded data removed]",
      "text/plain": [
       "<matplotlib.figure.Figure at 0x7fe7adcd7b50>"
      ]
     },
     "metadata": {},
     "output_type": "display_data"
    }
   ],
   "source": [
    "a=10.\n",
    "l=6.\n",
    "plt.figure(figsize=(8,6))\n",
    "x = np.arange(0.00, 1.01, 0.01)*np.pi\n",
    "y = l/2 * np.sin(x)\n",
    "plt.fill(x, y, 'b', alpha=0.2)\n",
    "plt.xlim(0,np.pi)\n",
    "plt.ylim(0, a/2)\n",
    "plt.xticks((0,np.pi), ('0', '$\\pi$'));\n",
    "plt.yticks((0, l/2, a/2), ('0', '$l/2$', '$a/2$'));"
   ]
  },
  {
   "cell_type": "markdown",
   "metadata": {},
   "source": [
    "针与平行线相交的概率就是上图中阴影部分的面积与矩形面积的比。这样投针若干次，记录相交的概率，从而计算得到$\\pi$的值。"
   ]
  },
  {
   "cell_type": "code",
   "execution_count": null,
   "metadata": {
    "collapsed": true
   },
   "outputs": [],
   "source": []
  }
 ],
 "metadata": {
  "kernelspec": {
   "display_name": "Python 2",
   "language": "python",
   "name": "python2"
  },
  "language_info": {
   "codemirror_mode": {
    "name": "ipython",
    "version": 2
   },
   "file_extension": ".py",
   "mimetype": "text/x-python",
   "name": "python",
   "nbconvert_exporter": "python",
   "pygments_lexer": "ipython2",
   "version": "2.7.11"
  }
 },
 "nbformat": 4,
 "nbformat_minor": 0
}
