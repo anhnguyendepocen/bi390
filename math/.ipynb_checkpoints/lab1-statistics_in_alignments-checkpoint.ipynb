{
 "cells": [
  {
   "cell_type": "markdown",
   "metadata": {},
   "source": [
    "# Lab 2: Statistics behind Local Alignment\n",
    "___"
   ]
  },
  {
   "cell_type": "markdown",
   "metadata": {},
   "source": [
    "### Exercise 1\n",
    "Say we have a query sequence with length $m$, and the subject (database) of length $n$. We often set $m \\ll n$ for the sake of simplicity and reality. Figure out an algorithm to find both the highest perfect match and high-scoring segment with the time complexity of $\\mathcal{O}(mn)$. We set in the scoring system the match by +1, and the mismatch by -1.\n",
    "\n",
    "```python\n",
    "# the cummulative score\n",
    "cumulativescore = 0\n",
    "\n",
    "# minimum score up to now\n",
    "minscore = 0\n",
    "\n",
    "# highest cummulative score up to now\n",
    "maxcumscore = 0\n",
    "\n",
    "for i in 1:(n-m+1):\n",
    "    for j in 1:m:\n",
    "        if q[j] == s[i]:\n",
    "           ## add some codes here\n",
    "        else:\n",
    "           ## add other codes here\n",
    "        ## add some codes here\n",
    "\n",
    "```\n",
    "\n",
    "Do you think your algorithm make sense in sensitively finding all the high-scoring segments? "
   ]
  },
  {
   "cell_type": "code",
   "execution_count": null,
   "metadata": {
    "collapsed": true
   },
   "outputs": [],
   "source": []
  },
  {
   "cell_type": "markdown",
   "metadata": {},
   "source": [
    "### How to determine the statistical significance of nucleotide local alignments?\n",
    "\n",
    "Here is an example of alignment:\n",
    "<code>\n",
    "Q:    1     ttgacctagatgagatgtcgttcacttttactcaggtacagaaaa  45\n",
    "            |||| |||||||||||| | |||||||||||| || |||||||||\n",
    "S:    403   ttgatctagatgagatgccattcacttttactgagctacagaaaa  447\n",
    "</code>\n",
    "\n",
    "Try to identify high-scoring segments whose score $S$ exceeds a cutoff $x$ using a **local alignment** algorithm (e.g., BLAST).\n",
    "\n",
    "The scores will follow an extreme value (a.k.a. Gumbel) distribution:\n",
    "$$\n",
    "P(S > x) = 1 - e^{-Kmn e^{-\\lambda x}}\n",
    "$$\n",
    "where $K, \\lambda$ are positive parameters that depend on the scoring system and the composition of the sequences being compared."
   ]
  },
  {
   "cell_type": "code",
   "execution_count": null,
   "metadata": {
    "collapsed": true
   },
   "outputs": [],
   "source": []
  },
  {
   "cell_type": "markdown",
   "metadata": {},
   "source": [
    "### How do $\\lambda$ relate to the scoring system and the composition of the sequences?\n",
    "\n",
    "$\\lambda$ is the positive unique solution to the following equation:\n",
    "$$\n",
    "\\sum_{i,j=1}^4 p_i r_j e^{\\lambda s_{ij}} = 1\n",
    "$$\n",
    "where:\n",
    "- $p_i$ is the probability of nucleotide $i$ in query sequence;\n",
    "- $r_j$ is the probability of nucleotide $j$ in the database;\n",
    "- $s_{ij}$ is the score for nucleotide $i$ and $j$.\n",
    "\n",
    "#### Question\n",
    "1. What kind of equation is this?\n",
    "   - This is a transendental equation here. Let's plug the most simple situation to the equation by setting:\n",
    "$$\n",
    "\\forall i, j = 1, \\ldots, 4,  p_i = r_j = \\frac{1}{4} , s_{ij} = \\left\\{\n",
    "\\begin{array}{ll}\n",
    "1 & i=j\\\\\n",
    "-1 & i \\neq j\n",
    "\\end{array}\n",
    "\\right.\n",
    "$$\n",
    "then we have:\n",
    "$$\n",
    "\\frac{1}{4}e^{\\lambda} + \\frac{3}{4}e^{-\\lambda} = 1\n",
    "$$\n",
    "Here $\\frac{1}{4}$ is the probability of match, while $\\frac{3}{4}$ is the probability of mismatch. Finally we could arrive at $\\lambda = \\ln(3) \\approx 1.099$\n",
    "2. What would happen to $\\lambda$ if we double all the scores in the scoring matrix?\n",
    "   - $\\lambda$ would be reduced by a factor of 2, since in the above equation, $p_i$ and $r_j$ does not change. In order to keep the product $\\lambda s_{ij}$ fixed, we need to ...\n",
    "\n",
    "3. What does this tell us about the nature of $\\lambda$?\n",
    "   - We can easily find that $\\lambda$ is used to scale the raw score to fit to the compositions of both the query and subject sequences. It won't change the high-scoring segments."
   ]
  },
  {
   "cell_type": "markdown",
   "metadata": {},
   "source": [
    "### What scoring matrix to use for DNA?\n",
    "\n",
    "We usually use a **simple match-mismatch scoring matrix**:\n",
    "$$\n",
    "S = \\left[\\begin{array}{cccc}\n",
    "1 & m & m & m\\\\\n",
    "m & 1 & m & m\\\\\n",
    "m & m & 1 & m\\\\\n",
    "m & m & m & 1\n",
    "\\end{array}\\right]\n",
    "$$\n",
    "where $m < 0$ is the **mismatch penalty** and it should be negative.\n",
    "\n",
    "#### Question\n",
    "\n",
    "1. Should we use $m=-1$ or $m=-2$, $m=-4$, $\\ldots$? And why?\n",
    "\n",
    "2. Could you please propose some more complicated scoring matrices for application?"
   ]
  },
  {
   "cell_type": "code",
   "execution_count": null,
   "metadata": {
    "collapsed": true
   },
   "outputs": [],
   "source": []
  },
  {
   "cell_type": "markdown",
   "metadata": {},
   "source": [
    "### How to choose the mismatch penalty?\n",
    "It depends on our expectation from the queries.\n",
    "\n",
    "Let's compute the **target frequencies** (the proportion of match of nucleotide $i$ and $j$ in your target alignment):\n",
    "$$\n",
    "q_{ij} = p_i p_j e^{\\lambda s_{ij}} \\Rightarrow s_{ij} = \\frac{\\ln(q_{ij}/p_i p_j)}{\\lambda}\n",
    "$$\n",
    "\n",
    "If you want a region with identity $r$, then $q_{ii} = r/4$ and $q_{ij} = (1-r)/12 (i \\neq j)$. We can further set $s_{ii}=1$, then for $s_{ij}$:\n",
    "$$\n",
    "m = s_{ij} = s_{ij} / s_{ii} = \\frac{\\frac{\\ln(q_{ij}/p_i p_j)}{\\lambda}}{\\frac{\\ln(q_{ii}/p_i p_i)}{\\lambda}} = \\frac{\\ln(q_{ij}/p_i p_j)}{\\ln(q_{ii}/p_i p_i)}\n",
    "$$\n",
    "Assume that $p_i = p_j = 1/4$ and $1/4 < r < 1$, then:\n",
    "$$\n",
    "m = \\frac{\\ln(4(1-r)/3)}{\\ln(4r)}\n",
    "$$\n",
    "Note here that $r$ is the **expected fraction of identities in high-scoring BLAST hits**."
   ]
  },
  {
   "cell_type": "code",
   "execution_count": 20,
   "metadata": {
    "collapsed": false
   },
   "outputs": [
    {
     "name": "stdout",
     "output_type": "stream",
     "text": [
      "Identities\tMismatch score\n",
      "0.75\t\t-1.0\n",
      "0.95\t\t-2.0\n",
      "0.99\t\t-3.1\n"
     ]
    }
   ],
   "source": [
    "import math\n",
    "identities = [.75, .95, .99]\n",
    "m = map(lambda r: math.log(4*(1-r)/3,math.exp(1))/math.log(4*r, math.exp(1)), identities)\n",
    "print \"Identities\\tMismatch score\"\n",
    "for i, j in zip(identities, m):\n",
    "    print \"{0:.2f}\\t\\t{1:.1f}\".format(i, j)"
   ]
  },
  {
   "cell_type": "markdown",
   "metadata": {},
   "source": [
    "This means that for a match score of +1 and uniform distribution of the four nucleotide, if we want to achieve a identity of over 95\\% in the high scoring segment, we need to set mismatch penalty to be less than -2. "
   ]
  },
  {
   "cell_type": "markdown",
   "metadata": {},
   "source": [
    "### Question\n",
    "\n",
    "All of the following questions are based on the assumption that the match score is +1.\n",
    "\n",
    "1. In order to obtain almost-perfect alignment, what would you do in choosing a mismatch penalty score?\n",
    "\n",
    "2. Use a mismatch penalty score of $m=-2$, can you achieve a high-scoring segment with identity of 66%. If yes, tell me why."
   ]
  },
  {
   "cell_type": "code",
   "execution_count": null,
   "metadata": {
    "collapsed": true
   },
   "outputs": [],
   "source": []
  },
  {
   "cell_type": "markdown",
   "metadata": {},
   "source": [
    "### BLAST Exercises\n",
    "\n",
    "1. If you want to blast a human EST data against the mouse genome, which BLAST program would you choose? BLASTN or TBLASTX? And why?\n",
    "\n",
    "2. It is almost true that sequence similarity can imply structural/functional similarity. But, is the converse true? Why?\n",
    "\n",
    "3. If you need to search for divergent protein homologs, which scoring matrix would you use?\n",
    "\n",
    "4. How do you interpret the two parameters, $K$ and $\\lambda$?\n",
    "   * $K$ and $\\lambda$ are two scaling paramters for searching space size $mn$ and the scoring matrix system $S$.\n",
    "\n",
    "5. What is the raw score and bit score for BLAST?"
   ]
  },
  {
   "cell_type": "code",
   "execution_count": null,
   "metadata": {
    "collapsed": true
   },
   "outputs": [],
   "source": []
  },
  {
   "cell_type": "code",
   "execution_count": null,
   "metadata": {
    "collapsed": true
   },
   "outputs": [],
   "source": []
  }
 ],
 "metadata": {
  "kernelspec": {
   "display_name": "Python [default]",
   "language": "python",
   "name": "python2"
  },
  "language_info": {
   "codemirror_mode": {
    "name": "ipython",
    "version": 2
   },
   "file_extension": ".py",
   "mimetype": "text/x-python",
   "name": "python",
   "nbconvert_exporter": "python",
   "pygments_lexer": "ipython2",
   "version": "2.7.12"
  }
 },
 "nbformat": 4,
 "nbformat_minor": 0
}
