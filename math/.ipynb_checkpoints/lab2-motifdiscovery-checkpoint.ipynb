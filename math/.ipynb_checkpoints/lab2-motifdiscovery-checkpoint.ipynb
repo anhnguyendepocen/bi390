{
 "cells": [
  {
   "cell_type": "markdown",
   "metadata": {},
   "source": [
    "# Lab 2: Motif Discovery Algorithms\n",
    "___"
   ]
  },
  {
   "cell_type": "markdown",
   "metadata": {},
   "source": [
    "## 1. What is a sequence motif?\n",
    "\n",
    "A motif (模体) is a common pattern for a set of DNAs, RNAs or proteins, which might share a common functional property, such as binding to a particular protein (e.g., transcription factor, TF转录因子)."
   ]
  },
  {
   "cell_type": "markdown",
   "metadata": {},
   "source": [
    "## 2. How to represent a motif?\n",
    "- Conssensus sequence (一致序列)\n",
    "- Regular expression (正则表达式)\n",
    "- Weight matrix/PWM/PSSM (位置权重矩阵、位置特异性打分矩阵)\n",
    "- More complicated models"
   ]
  },
  {
   "cell_type": "markdown",
   "metadata": {},
   "source": [
    "## 3. Why are motifs important?\n",
    "Motifs can be used to:\n",
    "- Identify proteins, DNAs, or RNAs that have a specific property.\n",
    "- infer the transcription factors that regulate the gene expression.\n",
    "- construct gene expression regulatory network."
   ]
  },
  {
   "cell_type": "markdown",
   "metadata": {},
   "source": [
    "## 4. Where do motifs come from?\n",
    "- Sequences of known common function\n",
    "- Cross-linking/pulldown experiment\n",
    "- In-vitro binding / SELEX experiments\n",
    "- Multiple sequence alignments / comparative genomics"
   ]
  },
  {
   "cell_type": "markdown",
   "metadata": {},
   "source": [
    "## 5. Examples of protein motifs\n",
    "\n",
    "- Zinc fingers: \n",
    "- Phosphorylation sites (*Arabidopsis* SRPK4)\n",
    "- Core splicing motifs"
   ]
  },
  {
   "cell_type": "markdown",
   "metadata": {},
   "source": [
    "## 6. Weight matrix representation\n",
    "Here is a model for a splice site motif (+):\n",
    "$$\n",
    "\\begin{array}{lcccccc}\n",
    "{\\bf POS} & -3 & -2 & -1 & \\cdots & +5 & +6\\\\\n",
    "A & {\\bf 0.3} & {\\bf 0.6} & 0.1 & \\cdots & 0.1 & 0.1\\\\\n",
    "C & {\\bf 0.4} & 0.1 & 0.0 & \\cdots & 0.1 & 0.2\\\\\n",
    "G & 0.2 & 0.2 & {\\bf 0.8} & \\cdots & {\\bf 0.8} & 0.2\\\\\n",
    "T & 0.1 & 0.1 & 0.1 & \\cdots & 0.0 & {\\bf 0.5} \n",
    "\\end{array}\n",
    "$$\n",
    "where each column denotes the relative probabilities at each site for nucleotide $A, C, G, T$, resepectively. "
   ]
  },
  {
   "cell_type": "markdown",
   "metadata": {},
   "source": [
    "And the background model (-) is:\n",
    "$$\n",
    "\\begin{array}{lc}\n",
    "{\\bf POS} & {\\text generic}\\\\\n",
    "A & 0.25\\\\\n",
    "C & 0.25\\\\\n",
    "G & 0.25\\\\\n",
    "T & 0.25\n",
    "\\end{array}\n",
    "$$"
   ]
  },
  {
   "cell_type": "markdown",
   "metadata": {},
   "source": [
    "Thus, for sequence $S = S_1S_2S_3S_4S_5S_6S_7S_8S_9$, the **odds ratio (OR)** should be:\n",
    "$$\n",
    "\\text{OR} = \\frac{P(S \\big| +)}{P(S \\big| -)} = \\frac{P_{-3}(S_1)P_{-2}(S_2)P_{-1}(S_3) \\cdots P_{+5}(S_8)P_{+6}(S_9)}{P_b(S_1)P_b(S_2)P_b(S_3) \\cdots P_b(S_8)P_b(S_9)}\n",
    "$$\n",
    "\n",
    "Note that here the computation is based upon **a strong assumption that each site is independent of each other** and also a **homogeneous background model**."
   ]
  },
  {
   "cell_type": "markdown",
   "metadata": {},
   "source": [
    "## 7. Then how to describe a motif?\n",
    "\n",
    "The objective of describing a motif is:\n",
    "- exact/precise versus degenerate 精确与模糊的比较\n",
    "- strong versus weak 强与弱的比较\n",
    "- high information content versus low information content 高信息量的与低信息量的比较\n",
    "- low entropy versus high entropy 低熵值与高熵值的比较\n",
    "\n",
    "We prefer the former over the latter."
   ]
  },
  {
   "cell_type": "markdown",
   "metadata": {},
   "source": [
    "## 8. Statistical (Shannon) entropy (熵的定义)\n",
    "- Motif probabilities: $p_k (k=A, C, G, T)$\n",
    "- Background probabilities: $q_k = 1/4 (k=A, C, G, T)$\n",
    "- $H(q) = -\\sum_{k=1}^4 q_k \\log_2 q_k = 2$ bits\n",
    "- $H(p) = -\\sum_{k=1}^4 p_k \\log_2 p_k = ?$ bits\n",
    "\n",
    "For shannon entropy, logarithm base 2 will give entropy/information in \"bits\". However, for **Boltzmann entropy (波兹曼熵)**:\n",
    "$$\n",
    "S = k_B \\ln (\\Omega)\n",
    "$$\n",
    "\n",
    "Entropy is sort of **a measure of uncertainty** in the system."
   ]
  },
  {
   "cell_type": "markdown",
   "metadata": {},
   "source": [
    "## 9. Information content (IC) of a motif\n",
    "\n",
    "At site $j$ of the motif, the information content should be given:\n",
    "$$\n",
    "I_j = H_j^{background}  - H_j^{motif}  = \\sum_{k=1}^4 q_k \\log_2 q_k +\\sum_{k=1}^4  p_k^{(j)} \\log_2 p_k^{(j)} = 2 - H_j^{motif} \n",
    "$$\n",
    "\n",
    "If positions in the motifs are independent, then for a motif of width $w$\n",
    "$$\n",
    "I_{motif} = \\sum_{j=1}^w I_j = 2w - H_{motif}\n",
    "$$"
   ]
  },
  {
   "cell_type": "markdown",
   "metadata": {},
   "source": [
    "## 10. Approaches to motif-finding\n",
    "\n",
    "There are three main categories of approaches to finding a motif:\n",
    "* **Enumerative** ('Dictionary-based') 枚举法\n",
    "   - Search of a k-mer/set of k-mers/regular expressions that is statistically over-represented 搜索\n",
    "* **Probabilistic optimization** (e.g., Gibbs sampling) 概率优化\n",
    "   - Stochastic search of the possible PSPMs space. 随机搜索\n",
    "* **Deterministic optimization** 确定性优化\n",
    "   - Deterministic search of the possible PSPMs space.  决定性搜索"
   ]
  },
  {
   "cell_type": "markdown",
   "metadata": {},
   "source": [
    "## 11. Gibbs sampler is a Monte-Carlo algorithm\n",
    "\n",
    "Monte-Carlo algorithms is a set of computational algorithms that rely on repeated random sampling to arrive at the final results, which is a randomized algorithm where the available computational resources are bounded but the result is not guaranteed to be 100% correct all the time.\n",
    "\n",
    "We need to distinguish the Monte-Carlo algorithm from Las Vegas algorithm, which is also a randomized algorithm but will always gives the correct results (or informs about failure).\n",
    "\n",
    "### Example\n",
    "\n",
    "We are given a sequence $s_k$ = actactg<font color='red'>tatcgtac</font>tgactgattaggccatgactgcat, and the **8-mer motif position-specific weight matrix $\\Theta \\in \\mathbb{R}^{8 \\times 4}$** and the **background vector $\\theta \\in \\mathbb{R}^4$**.\n",
    "\n",
    "To compute the likelihood for a set of $K$ sequences $\\vec{s}$ of lengths $L_1, \\cdots, L_k, \\cdots, L_K$, and with motif locations $\\vec{A} \\in \\mathbb{N}^{K}$:\n",
    "$$\n",
    "P(\\vec{s}, \\vec{A} \\big | \\Theta, \\theta_B) = \\prod_{k=1}^K  \\underbrace{\\theta_{B,S_{k,1}} \\times \\cdots \\times \\theta_{B,S_{k,A_k-1}}}_{\\text{pre-motif background}} \\times \\underbrace{\\Theta_{1, S_{k,A_k}} \\times \\Theta_{1, S_{k,A_k+1}} \\times \\cdots \\times \\Theta_{8,S_{k,A_k+7}}}_{\\text{motif}} \\times \\underbrace{\\theta_{B,S_{k,A_k+8}} \\times \\cdots \\times \\theta_{B,S_{k,L_k}}}_{\\text{post-motif background}}\n",
    "$$\n",
    "where $S_{k,m}$ denotes the $m$-th nucleotide for sequence $S_k$."
   ]
  },
  {
   "cell_type": "code",
   "execution_count": null,
   "metadata": {
    "collapsed": true
   },
   "outputs": [],
   "source": []
  }
 ],
 "metadata": {
  "kernelspec": {
   "display_name": "Python [default]",
   "language": "python",
   "name": "python2"
  },
  "language_info": {
   "codemirror_mode": {
    "name": "ipython",
    "version": 2
   },
   "file_extension": ".py",
   "mimetype": "text/x-python",
   "name": "python",
   "nbconvert_exporter": "python",
   "pygments_lexer": "ipython2",
   "version": "2.7.12"
  }
 },
 "nbformat": 4,
 "nbformat_minor": 0
}
