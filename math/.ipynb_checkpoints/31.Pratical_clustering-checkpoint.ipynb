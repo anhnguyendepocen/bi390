{
 "cells": [
  {
   "cell_type": "markdown",
   "metadata": {},
   "source": [
    "# 第三十一讲：聚类算法实践\n",
    "___"
   ]
  },
  {
   "cell_type": "markdown",
   "metadata": {},
   "source": [
    "## 1. 聚类结果的衡量指标\n",
    "___"
   ]
  },
  {
   "cell_type": "markdown",
   "metadata": {},
   "source": [
    "### 1.1 均一性（Homogeneity）\n",
    "\n",
    "一个簇中只包含一个类别的样本，则满足均一性：\n",
    "\n",
    "$$\n",
    "h = \\left\\{\\begin{array}{ll}\n",
    "1 & \\text{if } H(C) = 0\\\\\n",
    "1-\\frac{H(C \\mid K)}{H(C)} & \\text{otherwise}\n",
    "\\end{array}\n",
    "\\right.\n",
    "$$\n",
    "其中$H(C)$是所有样本分类$C$的熵（entropy）的总和，而$H(C \\mid K)$则为相对熵（relative entropy）,其中$K$为$K$个簇的全局分布。\n",
    "$$\n",
    "\\begin{array}{lcl}\n",
    "H(C) &=& \\sum_{c=1}^C p(c) H(c) =\\sum_{c=1}^C p(c)\\sum_{k=1}^K p_k^{(c)} \\log p_k^{(c)} \\\\\n",
    "H(C \\mid K) &=& \\sum_{c=1}^C p(c) H(c \\mid K) =\\sum_{c=1}^C p(c)\\sum_{k=1}^K p_k^{(c)} \\log \\frac{p_k^{(c)}}{q_k} \n",
    "\\end{array}\n",
    "$$\n",
    "其中：\n",
    "* $p(c)$为所有样本中，第$c$个分类的样本的比例；\n",
    "* $q(k)$为所有样本中，被聚类到第$k$个簇的样本的比例；\n",
    "* $p_k^{(c)}$表示第$c$个分类的样本中，被聚类到第$k$个簇的样本的比例。"
   ]
  },
  {
   "cell_type": "markdown",
   "metadata": {},
   "source": [
    "### 1.2 完整性（Completeness）\n",
    "\n",
    "如果同类别样本全部被归类到相同簇中，则满足完整性：\n",
    "$$\n",
    "c = \\left\\{\n",
    "\\begin{array}{ll}\n",
    "1 & \\text{if } H(K) = 0\\\\\n",
    "1 - \\frac{H(K \\mid C)}{H(K)} & \\text{otherwise}\n",
    "\\end{array}\n",
    "\\right.\n",
    "$$\n",
    "同样，\n",
    "\n",
    "$$\n",
    "\\begin{array}{lcl}\n",
    "H(K) &=& \\sum_{k=1}^K p(k) H(k) =\\sum_{k=1}^K p(k)\\sum_{k=1}^K p_c^{(k)} \\log p_c^{(k)} \\\\\n",
    "H(K \\mid C) &=& \\sum_{k=1}^K p(k) H(k \\mid C) =\\sum_{k=1}^K p(k)\\sum_{c=1}^C p_c^{(k)} \\log \\frac{p_c^{(k)}}{q_c} \n",
    "\\end{array}\n",
    "$$\n",
    "其中：\n",
    "* $p(k)$为所有样本中，属于第$k$种分类的样本的比例；\n",
    "* $q(c)$为所有样本中，被聚到第$c$个簇的样本的比例；\n",
    "* $p_c^{(k)}$表示第$k$个分类样本中，被聚类到第$c$个簇的样本的比例。"
   ]
  },
  {
   "cell_type": "markdown",
   "metadata": {},
   "source": [
    "### 1.3 V-measure\n",
    "是均一性和完整性的加权平均：\n",
    "$$\n",
    "v_{\\beta} = \\frac{(1+\\beta)\\cdot h \\cdot c}{\\beta \\cdot h + c}\n",
    "$$"
   ]
  },
  {
   "cell_type": "code",
   "execution_count": null,
   "metadata": {
    "collapsed": true
   },
   "outputs": [],
   "source": []
  }
 ],
 "metadata": {
  "kernelspec": {
   "display_name": "Python [default]",
   "language": "python",
   "name": "python2"
  },
  "language_info": {
   "codemirror_mode": {
    "name": "ipython",
    "version": 2
   },
   "file_extension": ".py",
   "mimetype": "text/x-python",
   "name": "python",
   "nbconvert_exporter": "python",
   "pygments_lexer": "ipython2",
   "version": "2.7.12"
  }
 },
 "nbformat": 4,
 "nbformat_minor": 0
}
