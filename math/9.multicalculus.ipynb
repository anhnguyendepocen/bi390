{
 "cells": [
  {
   "cell_type": "markdown",
   "metadata": {},
   "source": [
    "# 第九讲：多元微积分（Multivariate Calculus）\n",
    "___"
   ]
  },
  {
   "cell_type": "markdown",
   "metadata": {},
   "source": [
    "## 1. 欧氏空间（Euclidean space）\n",
    "\n",
    "$$\n",
    "\\mathbf{x} = (x_1, x_2, \\ldots, x_n)\n",
    "$$\n",
    "可用于表示向量空间$\\mathbb{R}^n$中的坐标（coordinates）、向量（vectors）或者是笛卡尔积（Cartesian product）$\\underbrace{\\mathbb{R}\\times\\mathbb{R}\\times\\cdots\\times \\mathbb{R}}_{n}$。\n",
    "\n",
    "### 1.1 欧氏空间的内积\n",
    "\n",
    "欧氏空间中非常重要的一个概念就是向量的内积（inner product）:\n",
    "\n",
    "设$\\mathbf{x, y} \\in \\mathbb{R}^n$，两者的内积定义为：\n",
    "$$\n",
    "\\langle \\mathbf{x, y} \\rangle = \\mathbf{x \\cdot y} = \\sum_{i=1}^n x_i y_i = \\mathbf{x^T y}\n",
    "$$"
   ]
  },
  {
   "cell_type": "markdown",
   "metadata": {},
   "source": [
    "### 1.2 内积的基本性质\n",
    "\n",
    "- (1) __正定性__：$\\mathbf{x\\cdot x} \\ge 0$，等号成立当且仅当$\\mathbf{x = 0}$；\n",
    "\n",
    "- (2) __对称性__：$\\mathbf{x \\cdot y} = \\mathbf{y \\cdot x}$；\n",
    "\n",
    "- (3) __分配律__：$\\mathbf{(x + y)\\cdot z} = \\mathbf{x \\cdot z + y \\cdot z}, \\forall \\mathbf{z} \\in \\mathbb{R}^n$\n",
    "\n",
    "- (4) __交换律__：$(\\alpha\\mathbf{x})\\cdot \\mathbf{y} = \\alpha (\\mathbf{x \\cdot y}), \\forall \\alpha \\in \\mathbb{R}$\n",
    "\n",
    "内积可用来定义__向量的模（norm）__：\n",
    "$$\n",
    "\\lVert \\mathbf{x} \\rVert = \\sqrt{\\langle \\mathbf{x, x} \\rangle} = \\sqrt{\\sum_{i=1}^n x_i^2}\n",
    "$$\n",
    "\n",
    "向量空间一旦有了内积的定义，就构成了__欧氏空间__。"
   ]
  },
  {
   "cell_type": "markdown",
   "metadata": {},
   "source": [
    "### 1.3 欧氏空间的距离\n",
    "\n",
    "欧氏空间中向量$\\mathbf{x}$与$\\mathbf{y}$的距离定义为：\n",
    "$$\n",
    "\\lvert \\mathbf{x - y} \\rvert = \\lVert \\mathbf{x - y} \\rVert = \\sqrt{\\sum_{i=1}^n (x_i - y_i)^2}\n",
    "$$\n",
    "\n",
    "#### 欧氏距离的性质\n",
    "- (1) __正定性__：$\\lvert \\mathbf{x - y} \\rvert \\ge 0$，等式成立的充要条件是$\\mathbf{x = y}$；\n",
    "\n",
    "- (2) __对称性__：$\\lvert \\mathbf{x - y} \\rvert = \\lvert \\mathbf{y - x} \\rvert$；\n",
    "\n",
    "- (3) __三角不等式__： $\\lvert \\mathbf{y - z} \\rvert \\le \\lvert \\mathbf{x - y}\\rvert + \\lvert \\mathbf{z - x} \\rvert$"
   ]
  },
  {
   "cell_type": "markdown",
   "metadata": {},
   "source": [
    "### 1.4 欧氏空间中的邻域\n",
    "\n",
    "设$\\mathbf{x_0} \\in \\mathbb{R}^n, \\delta \\in \\mathbb{R} > 0$，则\n",
    "$$\n",
    "\\mathbf{U}(\\mathbf{x}_0, \\delta) = \\left\\{\\mathbf{x} \\in \\mathbb{R}^n \\big\\vert \\lvert \\mathbf{x - x_0} \\rvert < \\delta \\right\\}\n",
    "$$\n",
    "称为$\\mathbf{x_0}$的$\\delta$邻域。如果不包含$\\mathbf{x_0}$，则称为$\\mathbf{x_0}$的去心邻域或球形邻域。\n",
    "\n",
    "相应的，我们还有方形邻域的的定义：\n",
    "$$\n",
    "\\mathbf{N}(\\mathbf{x}_0, \\delta) = \\left\\{ \\mathbf{x} \\in \\mathbb{R}^n \\big\\vert \\lvert x_i - x_i^0 \\rvert < \\delta \\right\\}\n",
    "$$"
   ]
  },
  {
   "cell_type": "markdown",
   "metadata": {},
   "source": [
    "### 1.5 欧氏空间中的极限\n",
    "\n",
    "定义极限与前面类似，但用到了欧氏距离的定义罢了。"
   ]
  },
  {
   "cell_type": "markdown",
   "metadata": {},
   "source": [
    "## 2. 开集和闭集\n",
    "\n",
    "这一部分主要是一些概念，什么叫做闭集和开集，各有什么样的性质？如任意个开集的并集，有限个开集的交集"
   ]
  },
  {
   "cell_type": "markdown",
   "metadata": {},
   "source": [
    "## 3. 多元函数（multivariate function）\n",
    "\n",
    "函数$f: \\mathcal{X} \\in \\mathbb{R}^n \\to \\mathbb{R}^m$，这相当于$m$个$n$元函数：\n",
    "$$\n",
    "\\begin{array}{l}\n",
    "y_1 = f_1(\\mathbf{x})\\\\\n",
    "y_2 = f_2(\\mathbf{x})\\\\\n",
    "\\vdots\\\\\n",
    "y_m = f_m(\\mathbf{x})\n",
    "\\end{array}\n",
    "$$"
   ]
  },
  {
   "cell_type": "code",
   "execution_count": null,
   "metadata": {
    "collapsed": true
   },
   "outputs": [],
   "source": []
  }
 ],
 "metadata": {
  "kernelspec": {
   "display_name": "Python 2",
   "language": "python",
   "name": "python2"
  },
  "language_info": {
   "codemirror_mode": {
    "name": "ipython",
    "version": 2
   },
   "file_extension": ".py",
   "mimetype": "text/x-python",
   "name": "python",
   "nbconvert_exporter": "python",
   "pygments_lexer": "ipython2",
   "version": "2.7.11"
  }
 },
 "nbformat": 4,
 "nbformat_minor": 0
}
