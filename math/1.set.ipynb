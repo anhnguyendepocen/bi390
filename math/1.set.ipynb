{
 "cells": [
  {
   "cell_type": "markdown",
   "metadata": {},
   "source": [
    "# 第一讲：集合（set）\n",
    "____"
   ]
  },
  {
   "cell_type": "markdown",
   "metadata": {},
   "source": [
    "## 1. 集合的概念（concept）\n",
    "\n",
    "什么是集合？似乎这是一个只可意会而不可言传的。一个集合包含多个元素（element），集合中的元素都是唯一的（unique）。\n",
    "\n",
    "集合$S$的基数（cardinality）$\\lvert S \\rvert$：集合中元素的数量称为基数，也称为势。\n",
    "\n",
    "集合的运算：\n",
    "\n",
    "- 交（intersection）： $A \\cap B = \\{x | x \\in A \\mbox{ and } x \\in B\\}$\n",
    "- 并（union）：$A \\cup B = \\{x | x \\in A \\mbox{ or } x \\in B \\}$\n",
    "- 差（difference）：$A\\backslash B = \\{x | x \\in A \\mbox{ and } x \\not\\in B\\}$\n",
    "\n",
    "任意$\\forall$，存在$\\exists$\n",
    "\n",
    "常见集合：自然数集$\\mathbb{N}$，整数集$\\mathbb{Z}$，有理数$\\mathbb{Q}$，实数$\\mathbb{R}$，复数$\\mathbb{C}$.\n",
    "\n",
    "子集记作$A \\subseteq B$，相等记作$A=B$，如果是真子集记作$A \\subset B$，空集记作$\\emptyset$"
   ]
  },
  {
   "cell_type": "code",
   "execution_count": 16,
   "metadata": {
    "collapsed": false
   },
   "outputs": [
    {
     "name": "stdout",
     "output_type": "stream",
     "text": [
      "set([2, 5])\n",
      "set([2, 5])\n",
      "set([1, 2, 3, 4, 5, 6, 7])\n",
      "set([1, 2, 3, 4, 5, 6, 7])\n",
      "set([1, 3, 4])\n",
      "set([6, 7])\n",
      "set([1, 3, 4, 6, 7])\n",
      "set([1, 3, 4, 6, 7])\n"
     ]
    }
   ],
   "source": [
    "A = set({1,2,3,4,5})\n",
    "B = set({2,5,6,7})\n",
    "print A.intersection(B)    # intersection\n",
    "print A & B     # intersection\n",
    "print A.union(B) # union\n",
    "print A | B     # union\n",
    "print A - B     # A\\B\n",
    "print B - A     # B\\A\n",
    "print A ^ B     # xor, A\\B union B\\A\n",
    "print A.symmetric_difference(B) # xor"
   ]
  },
  {
   "cell_type": "markdown",
   "metadata": {},
   "source": [
    "## 2. 实数集（Real set）\n",
    "\n",
    "### 区间：\n",
    "闭区间$[a,b]$、开区间$(a,b)$，半闭区间$(a,b]$\n",
    "\n",
    "### 邻域：\n",
    "$$\n",
    "\\begin{array}{l}\n",
    "U(a, \\epsilon) = \\{x | a - \\epsilon < x < a + \\epsilon \\mbox{ and } x \\neq a\\}\\\\\n",
    "U_0(a, \\epsilon) = \\{x | a - \\epsilon < x < a + \\epsilon \\}\n",
    "\\end{array}\n",
    "$$"
   ]
  },
  {
   "cell_type": "markdown",
   "metadata": {},
   "source": [
    "## 3. 实数集子集的界\n",
    "\n",
    "### 上界和下界：\n",
    "\n",
    "非空集合$E \\subset \\mathbb{R}$，如果存在$M \\in \\mathbb{R}$，使得对于$\\forall x \\in E$，都有$x \\leq M$，则称$E$存在上界，且$M$为$E$的一个上界。注意上界并不是唯一的。\n",
    "\n",
    "相应的，如果存在$M \\in \\mathbb{R}$，使得对于$\\forall x \\in E$，都有$x \\geq M$，则称$E$存在下界，且$M$为$E$的一个下界。同样下界也不是唯一的。\n",
    "\n",
    "### 上确界和下确界：\n",
    "\n",
    "上确界和下确界是在上界和下界的基础上定义的。\n",
    "\n",
    "对于任意小的实数$\\epsilon \\in \\mathbb{R}$，集合$E$的上界$M$，在集合$E$中，存在$x \\in E$，满足条件$x \\gt M-\\epsilon$，则称$M$为$E$的上确界，标注为$M = \\operatorname{sup}E$。\n",
    "\n",
    "同理，我们可以定义下确界，标注为$\\operatorname{inf}E$。\n",
    "\n",
    "事实上，上确界就是集合$E$的最小上界，而下确界则为集合$E$的最大下界。\n",
    "\n",
    "### 例子\n",
    "\n",
    "对于集合$A = \\{x \\lvert x^2 < 4, x \\in \\mathbb{R} \\}$，有$\\sup A = 2.0$，下确界是$\\inf A = -2.0$。\n",
    "\n",
    "### 确界存在定理\n",
    "\n",
    "对于非空实数集合$A$，如果存在上界，则必存在上确界；如果存在下界，则必存在下确界。"
   ]
  },
  {
   "cell_type": "markdown",
   "metadata": {},
   "source": [
    "## 4. 常用不等式\n",
    "\n",
    "### 三角不等式（Triangular inequality）\n",
    "$$\n",
    "\\lvert x + y \\rvert \\le \\lvert x \\rvert +\\lvert y \\rvert\n",
    "$$\n",
    "等式什么时候成立？\n",
    "\n",
    "### 伯努利不等式（Bernoulli inequality）\n",
    "\n",
    "当$x \\geq -1$时，恒有$(1+x)^n \\geq 1 + nx$。\n",
    "\n",
    "等式什么时候成立？\n",
    "\n",
    "### 算术-几何平均数不等式\n",
    "\n",
    "对于$n$个非负实数$x_i， i=1,\\ldots, n$，恒有\n",
    "$$\n",
    "\\frac{1}{n}\\sum_{i=1}^n {x_i} \\ge \\left( \\prod_{i=1}^n x_i \\right)^{1/n}\n",
    "$$"
   ]
  },
  {
   "cell_type": "markdown",
   "metadata": {},
   "source": [
    "## 5. 映射（mapping）\n",
    "\n",
    "两个非空集合$A, B$，假设存在一个规则$f$，使得对于集合$A$中的任意元素$a$，按照规则$f$，在集合$B$中都有唯一的元素$b$与之对应，则称$f$我从$A$到$B$的映射，记作\n",
    "$$\n",
    "f: A \\to B\n",
    "$$\n",
    "\n",
    "其中$b$为元素$a$在映射$f$下的像，记作$b=f(a)$；$a$称为$b$关于映射$f$的原像。因此也称$A$为原像集，$B$为像集。\n",
    "\n",
    "单射：也叫嵌入映射。如果$a \\neq b \\in A$，则必有$f(a) \\neq f(b)$，这称为单射。\n",
    "满射：也叫到上映射。$\\forall b \\in B$，必然可以在$A$中找到其原像，则称为满射，也就是集合$B$必须被用满了。\n",
    "双射：也称一一映射。既是单射，也是满射。"
   ]
  },
  {
   "cell_type": "markdown",
   "metadata": {},
   "source": [
    "## 6. 函数（function）\n",
    "\n",
    "### 概念\n",
    "函数是一类特殊的从数集到数集的映射。假如有函数：\n",
    "$$\n",
    "f: X \\to \\mathbb{R}\n",
    "$$\n",
    "其中$x \\mapsto y = f(x)$。其中$X$称为函数$f$的定义域，$\\{f(x): x \\in X\\}$称为函数的值域，记作$f(X)$。在统计学中，将$x$称为自变量，$y$称为因变量。\n",
    "\n",
    "### 初等函数\n",
    "基本初等函数：常数函数、幂函数、指数函数、对数函数、三角函数、反三角函数\n",
    "\n",
    "反函数：如果$f$为双射，则$f$可逆，也就是$f^{-1}$。\n",
    "\n",
    "### 几种特殊函数\n",
    "\n",
    "__符号函数__：$\\operatorname{sgn}(x) = \\left\\{\n",
    "\\begin{array}{ll}\n",
    "-1 & x < 0\\\\\n",
    "0 & x = 0\\\\\n",
    "1 & x > 0\n",
    "\\end{array}\n",
    "\\right.$；__高斯（Gauss）取整函数__：$y = [x]$；__狄利克雷（Dirichlet）函数__：$y = D(x) = \\left\\{\n",
    "\\begin{array}{ll}\n",
    "1 & x \\in \\mathbb{Q}\\\\\n",
    "0 & x \\in \\mathbb{R} \\backslash \\mathbb{Q}\n",
    "\\end{array}\n",
    "\\right.$\n",
    "\n",
    "__黎曼（Riemann）函数__：\n",
    "$$\n",
    "y = R(x) = \\left\\{\n",
    "\\begin{array}{ll}\n",
    "\\frac{1}{p}, & x=\\frac{q}{p} \\in (0,1)，p,q \\in \\mathbb{Z}^{+}且p,q互质\\\\\n",
    "0, & x \\in (0,1) \\backslash \\mathbb{Q}\\\\\n",
    "1, & x=0,1\n",
    "\\end{array}\n",
    "\\right.\n",
    "$$"
   ]
  },
  {
   "cell_type": "markdown",
   "metadata": {},
   "source": [
    "## <font color='blue'>$\\S$练习题</font>\n",
    "\n",
    "用Python绘出符号函数和高斯取整函数。"
   ]
  },
  {
   "cell_type": "code",
   "execution_count": null,
   "metadata": {
    "collapsed": true
   },
   "outputs": [],
   "source": []
  },
  {
   "cell_type": "markdown",
   "metadata": {},
   "source": [
    "## 7. 函数的性质\n",
    "\n",
    "### 函数的有界性\n",
    "函数的上界、函数的下界\n",
    "\n",
    "$f(x) = \\sin x$的上界和下界是什么？\n",
    "\n",
    "### 函数的单调性\n",
    "单调递增、单调递减\n",
    "\n",
    "严格单调递增、严格单调递减\n",
    "\n",
    "函数$f(x)= \\sin x$在区间$[0,\\frac{\\pi}{2}]$是单调递增函数？\n",
    "\n",
    "函数$f(x) = 1/x$在区间$[0, +\\infty)$是单调递减函数？\n",
    "\n",
    "### 函数的周期性\n",
    "\n",
    "### 函数的奇偶性"
   ]
  },
  {
   "cell_type": "markdown",
   "metadata": {},
   "source": [
    "## <font color='blue'>$\\S$练习题</font>\n",
    "\n",
    "用Python在同一图中绘出正弦函数以及余弦函数在区间$[-\\pi, \\pi]$之间的图，说明函数的单调性质、有界性值和周期性以及奇偶性。"
   ]
  },
  {
   "cell_type": "code",
   "execution_count": null,
   "metadata": {
    "collapsed": true
   },
   "outputs": [],
   "source": []
  }
 ],
 "metadata": {
  "kernelspec": {
   "display_name": "Python 2",
   "language": "python",
   "name": "python2"
  },
  "language_info": {
   "codemirror_mode": {
    "name": "ipython",
    "version": 2
   },
   "file_extension": ".py",
   "mimetype": "text/x-python",
   "name": "python",
   "nbconvert_exporter": "python",
   "pygments_lexer": "ipython2",
   "version": "2.7.11"
  }
 },
 "nbformat": 4,
 "nbformat_minor": 0
}
