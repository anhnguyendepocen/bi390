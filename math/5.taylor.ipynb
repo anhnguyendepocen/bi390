{
 "cells": [
  {
   "cell_type": "markdown",
   "metadata": {},
   "source": [
    "# 第五讲： 泰勒公式（Taylor's Equation）\n",
    "___"
   ]
  },
  {
   "cell_type": "markdown",
   "metadata": {},
   "source": [
    "## 1. 罗尔（Rolle）微分中值定理\n",
    "\n",
    "设$f(x)$在闭区间$[a,b]$上连续，且$f(a) = f(b)$，如果$f(x)$在$(a,b)$中可导，则必存在一个点$c \\in (a,b)$，使得\n",
    "$$\n",
    "f'(c) = 0\n",
    "$$\n",
    "\n",
    "## 2. 拉格朗日（Lagrange）微分中值定理\n",
    "\n",
    "设函数$f(x)$在$[a,b]$上连续，并且在$(a,b)$上可导，则必然存在一个点$\\xi \\in (a,b)$，满足条件：\n",
    "$$\n",
    "f'(\\xi) = \\frac{f(b)-f(a)}{b-a}\n",
    "$$\n",
    "\n",
    "也就是说函数$f(x)$在$(a,b)$中必然存在一个点，其切线的斜率等于经过点$(a, f(a))$和$(b, f(b))$的割线的斜率。"
   ]
  },
  {
   "cell_type": "markdown",
   "metadata": {},
   "source": [
    "## 3. 柯西（Cauchy）中值定理\n",
    "\n",
    "设$f(x), g(x)$在闭区间$[a,b]$上连续，在$(a,b)$上可导，且$g'(x) \\neq 0$，则必存在一点$\\xi \\in (a,b)$，使得\n",
    "$$\n",
    "\\frac{f'(\\xi)}{g'(\\xi)} = \\frac{f(b) - f(a)}{g(b) - g(a)}\n",
    "$$"
   ]
  },
  {
   "cell_type": "markdown",
   "metadata": {},
   "source": [
    "## 4. 泰勒（Taylor）公式\n",
    "\n",
    "函数$f(x)$在$x_0$处具有$n(n>1)$阶导数，则\n",
    "$$\n",
    "f(x) = f(x_0) + f'(x_0)(x-x_0) + \\frac{f''(x_0)}{2!}(x-x_0)^2 + \\ldots + \\frac{f^{(n)}(x_0)}{n!} (x-x_0)^n + o((x-x_0)^n) (x \\to x_0)\n",
    "$$\n",
    "\n",
    "其中\n",
    "$$\n",
    "P_n(x) = f(x_0) + f'(x_0)(x-x_0) + \\frac{f''(x_0)}{2!}(x-x_0)^2 + \\ldots + \\frac{f^{(n)}(x_0)}{n!} (x-x_0)^n\n",
    "$$\n",
    "称为$f(x)$在$x_0$处的泰勒多项式，而$R_n(x) = f(x) - P_n(x)$称为泰勒公式余项。\n",
    "\n",
    "当$x_0=0$时，泰勒公式被称为__麦克劳林（Maclaurin）公式__。"
   ]
  },
  {
   "cell_type": "markdown",
   "metadata": {},
   "source": [
    "## <font color='blue'>$\\S$ 练习题</font>"
   ]
  },
  {
   "cell_type": "markdown",
   "metadata": {},
   "source": [
    "## 5. 常见基本初等函数的泰勒公式\n",
    "\n",
    "- (1) $e^x = 1 + x + \\frac{1}{2!}x^2 + \\ldots + \\frac{1}{n!}x^n + o(x^n)  (x \\to 0)$\n",
    "\n",
    "- (2) $\\sin x =  (x \\to 0)$\n",
    "\n",
    "- (3) $\\cos x =  (x \\to 0)$\n",
    "\n",
    "- (4) $(1+x)^a =  (x \\to 0)$\n",
    "\n",
    "- (5) $\\ln(1+x) =  (x \\to 0)$ "
   ]
  },
  {
   "cell_type": "markdown",
   "metadata": {},
   "source": [
    "## 6. 拉格朗日（Lagrange）余项\n",
    "\n",
    "与佩亚诺余项相比，拉格朗日余项$R_n$提供了一种评价$P_n(x)$逼近$f(x)$的情况。\n",
    "\n",
    "$$\n",
    "f(x) = f(x_0) + f'(x_0)(x-x_0) + \\ldots + \\frac{f^{(n)}(x)}{n!}(x-x_0)^n + \\frac{f^{(n+1)}(\\xi)}{(n+1)!}(x-x_0)^{n+1} (x \\to x_0)\n",
    "$$\n",
    "\n",
    "其中$\\xi$是居于$x_0$和$x$中间的一点。形如$R_n(x) = \\frac{f^{(n+1)}(\\xi)}{(n+1)!}(x-x_0)^{n+1}$的余项称为拉格朗日余项。"
   ]
  },
  {
   "cell_type": "markdown",
   "metadata": {},
   "source": [
    "## 7. 极大值和极小值问题\n",
    "\n",
    "如果函数在其取值点$x_0$处存在一个邻域$U_{\\delta}(x_0)$，满足\n",
    "$$\n",
    "f(x) \\leq f(x_0), \\forall x \\in U_{\\delta}(x_0) \n",
    "$$\n",
    "则称$x_0$为函数$f$的极小值点，$f(x_0)$为函数的极小值。而如果\n",
    "$$\n",
    "f(x) \\geq f(x_0), \\forall x \\in U_{\\delta}(x_0) \n",
    "$$\n",
    "则称$x_0$为函数$f$的极大值点，$f(x_0)$为函数的极大值。\n",
    "\n",
    "极小值和极大值统称为函数的极值，极小值点和极大值点统称为极值点。\n",
    "\n",
    "很多的问题最后都能归结到求极值，对于凸函数来说，局部极小值也是全局极小值；而对于凹函数来说，局部极大值也是全局极大值。\n",
    "\n",
    "我们来看一个函数：\n",
    "$$\n",
    "f(x) = x^3 - 6x^2 - 15x + 4\n",
    "$$"
   ]
  },
  {
   "cell_type": "code",
   "execution_count": 16,
   "metadata": {
    "collapsed": false
   },
   "outputs": [
    {
     "data": {
      "text/plain": [
       "[<matplotlib.lines.Line2D at 0x7f0f3625a890>]"
      ]
     },
     "execution_count": 16,
     "metadata": {},
     "output_type": "execute_result"
    },
    {
     "data": {
      "image/png": "[encoded data removed]",
      "text/plain": [
       "<matplotlib.figure.Figure at 0x7f0f364f71d0>"
      ]
     },
     "metadata": {},
     "output_type": "display_data"
    }
   ],
   "source": [
    "import numpy as np\n",
    "import matplotlib.pyplot as plt\n",
    "%matplotlib inline\n",
    "x = np.arange(-4, 8, 0.1)\n",
    "def func(x):\n",
    "    return x**3 - 6*x**2 - 15*x + 4\n",
    "y = func(x)\n",
    "plt.figure(figsize=(6,4))\n",
    "plt.plot(x, y, 'b-')"
   ]
  },
  {
   "cell_type": "markdown",
   "metadata": {},
   "source": [
    "同样，我们绘出函数的导函数："
   ]
  },
  {
   "cell_type": "code",
   "execution_count": 14,
   "metadata": {
    "collapsed": false
   },
   "outputs": [
    {
     "data": {
      "text/plain": [
       "<matplotlib.collections.LineCollection at 0x7f0f3637d2d0>"
      ]
     },
     "execution_count": 14,
     "metadata": {},
     "output_type": "execute_result"
    },
    {
     "data": {
      "image/png": "[encoded data removed]",
      "text/plain": [
       "<matplotlib.figure.Figure at 0x7f0f36389a50>"
      ]
     },
     "metadata": {},
     "output_type": "display_data"
    }
   ],
   "source": [
    "def fprime(x):\n",
    "    return 3*x**2 - 12*x - 15\n",
    "z = fprime(x)\n",
    "plt.figure(figsize=(4,4))\n",
    "plt.plot(x, z, 'r-', alpha=0.4)\n",
    "plt.hlines(0, -6, 8)"
   ]
  },
  {
   "cell_type": "markdown",
   "metadata": {},
   "source": [
    "### 7.1 费马定理\n",
    "\n",
    "设$y=f(x)$在区间$(a,b)$上有定义。若$x_0 \\in (a,b)$是$y=f(x)$的极值点，且函数在$x_0$处可导，则必有$f'(x_0)=0$。我们将函数的导数值为0的点称为驻点，也称为稳定点或临界点。\n",
    "\n",
    "__证明__：\n",
    "\n",
    "若$x_0$为极小值点，则在$x \\in U_{\\delta}(x_0) \\subseteq (a,b)$中，有\n",
    "$f(x) \\ge f(x_0)$\n",
    "则\n",
    "$$\n",
    "\\begin{align}\n",
    "\\lim_{x \\to x_0-} \\frac{f(x) - f(x_0)}{x-x_0} \\leq 0\\\\\n",
    "\\lim_{x \\to x_0+} \\frac{f(x) - f(x_0)}{x-x_0} \\geq 0\n",
    "\\end{align}\n",
    "$$\n",
    "根据导数的定义，不难发现必有$f'(x_0) = 0$。\n",
    "\n",
    "对于极大值点，同理得证。"
   ]
  },
  {
   "cell_type": "markdown",
   "metadata": {},
   "source": [
    "### 7.2 单调上升和单调下降\n",
    "\n",
    "若函数$f(x)$在区间$I$上可导，则\n",
    "- $f$在$I$中单调递增的充要条件是$f'(x) \\geq 0, \\forall x \\in I$;\n",
    "- $f$在$I$中单调递减的充要条件是$f'(x) \\leq 0, \\forall x \\in I$;"
   ]
  },
  {
   "cell_type": "markdown",
   "metadata": {},
   "source": [
    "则对上述函数的导函数进行分析，发现函数的变化规律。首先，我们对导函数求根："
   ]
  },
  {
   "cell_type": "code",
   "execution_count": 15,
   "metadata": {
    "collapsed": false
   },
   "outputs": [
    {
     "data": {
      "text/plain": [
       "array([ 5., -1.])"
      ]
     },
     "execution_count": 15,
     "metadata": {},
     "output_type": "execute_result"
    }
   ],
   "source": [
    "np.roots((3,-12, -15))"
   ]
  },
  {
   "cell_type": "markdown",
   "metadata": {},
   "source": [
    "进一步分析，不难发现：\n",
    "\n",
    "| 取值范围 | $(-\\infty, -1)$ | $-1$ | $(-1, 5)$ | $5$ | $(5, +\\infty)$ |\n",
    "| :--- | :---: | :---: | :---: | :---: | :---: |\n",
    "|$f'(x)$ | 0+ | 0 | 0- | 0 | 0+ |\n",
    "|$f(x)$ | 单调递增 | 极大值点 | 单调递减 | 极小值点 | 单调递增 |\n"
   ]
  },
  {
   "cell_type": "code",
   "execution_count": null,
   "metadata": {
    "collapsed": true
   },
   "outputs": [],
   "source": []
  }
 ],
 "metadata": {
  "kernelspec": {
   "display_name": "Python 2",
   "language": "python",
   "name": "python2"
  },
  "language_info": {
   "codemirror_mode": {
    "name": "ipython",
    "version": 2
   },
   "file_extension": ".py",
   "mimetype": "text/x-python",
   "name": "python",
   "nbconvert_exporter": "python",
   "pygments_lexer": "ipython2",
   "version": "2.7.11"
  }
 },
 "nbformat": 4,
 "nbformat_minor": 0
}
