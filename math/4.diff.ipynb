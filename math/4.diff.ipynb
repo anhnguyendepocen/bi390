{
 "cells": [
  {
   "cell_type": "markdown",
   "metadata": {},
   "source": [
    "# 第四讲：微分（differentials）\n",
    "___"
   ]
  },
  {
   "cell_type": "markdown",
   "metadata": {},
   "source": [
    "## 1. 微分的定义\n",
    "\n",
    "假设函数$y = f(x)$在$U(x_0, \\delta_0)$内部有定义，则如果存在常数$A$，使得\n",
    "$$\n",
    "\\Delta y = f(x_0+\\Delta x) - f(x_0) = A \\Delta x + o(\\Delta x) (\\Delta x \\to 0)\n",
    "$$\n",
    "则称$f(x)$在$x_0$处可微，并且称$A\\Delta x$为$f$在$x_0$处的微分，记为\n",
    "$$\n",
    "dy = A\\Delta x\n",
    "$$\n",
    "或者\n",
    "$$\n",
    "df(x_0) = A\\Delta x\n",
    "$$"
   ]
  },
  {
   "cell_type": "markdown",
   "metadata": {},
   "source": [
    "## 2. 用微分进行近似计算\n",
    "\n",
    "- (1) 计算$\\sqrt[4]{80}$\n",
    "\n",
    "令$f(x) = x^{1/4}$，则有f'(x) = \\frac{1}{4}x^{-3/4}，同时令$x_0 = 81$，则对应的$\\Delta x = -1$\n",
    "\n",
    "则$f(80) - f(81) = \\frac{1}{4} 81^{-3/4} \\times -1 = -\\frac{1}{108}$\n",
    "\n",
    "则$f(80) = f(81) - 1/108 = 3 - 1/108$"
   ]
  },
  {
   "cell_type": "markdown",
   "metadata": {},
   "source": [
    "## 3. 高阶导数\n",
    "\n",
    "一阶导数$f'(x)$，二阶导数$f''(x)$，三阶导数$f'''(x)$\n",
    "\n",
    "$n$阶导数$f^{(n)}(x) = \\frac{d^n y}{dx^n}$\n",
    "\n",
    "\n",
    "莱布尼兹公式：若函数$f$和$g$具有任意阶导数，则\n",
    "$$\n",
    "(f\\cdot g)^{(n)} = \\sum_{k=0}^n {\\binom{n}{k}} f^{(n-k)} g^{(k)}\n",
    "$$"
   ]
  },
  {
   "cell_type": "markdown",
   "metadata": {},
   "source": [
    "$\\choose{n}{k}$"
   ]
  },
  {
   "cell_type": "code",
   "execution_count": null,
   "metadata": {
    "collapsed": true
   },
   "outputs": [],
   "source": []
  }
 ],
 "metadata": {
  "kernelspec": {
   "display_name": "Python 2",
   "language": "python",
   "name": "python2"
  },
  "language_info": {
   "codemirror_mode": {
    "name": "ipython",
    "version": 2
   },
   "file_extension": ".py",
   "mimetype": "text/x-python",
   "name": "python",
   "nbconvert_exporter": "python",
   "pygments_lexer": "ipython2",
   "version": "2.7.11"
  }
 },
 "nbformat": 4,
 "nbformat_minor": 0
}
