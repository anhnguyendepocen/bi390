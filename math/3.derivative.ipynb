{
 "cells": [
  {
   "cell_type": "markdown",
   "metadata": {},
   "source": [
    "# 第三讲：函数的导数\n",
    "___"
   ]
  },
  {
   "cell_type": "markdown",
   "metadata": {},
   "source": [
    "## 1. 导数的定义\n",
    "\n",
    "函数$y=f(x)$是定义在$(a,b)$区间的函数，若极限\n",
    "$$\n",
    "\\lim_{\\Delta x \\to 0} \\frac{f(x_0+\\Delta x) - f(x_0)}{\\Delta x}\n",
    "$$\n",
    "存在，则称函数$f$在$x_0$处可导，且这个极限值为函数在$x_0$处的导数，记作$f'(x_0)$或者$\\frac{df}{dx}\\big|_{x=x_0}$。\n",
    "\n",
    "同样我们可以得到左导数和右导数。如果函数在取值域内可导，则我们可以得到导函数。"
   ]
  },
  {
   "cell_type": "markdown",
   "metadata": {},
   "source": [
    "## 2. 定义法求导\n",
    "\n",
    "- (1) 已知$f(x)=C$，求$f'(x)$。\n",
    "\n",
    "按照导数的定义，$f'(x) = \\lim_{\\Delta x \\to 0} \\frac{f(x+\\Delta x) - f(x)}{\\Delta x} = \\lim_{\\Delta x \\to 0}\\frac{C-C}{\\Delta x} = 0$\n",
    "\n",
    "- (2) 已知$f(x)=x^a$，求$f'(x)$。\n",
    "\n",
    "同样，按照导数的定义\n",
    "$$\n",
    "\\begin{array}{lcl}\n",
    "f'(x) &=& \\lim_{\\Delta x \\to 0} \\frac{(x+\\Delta x)^a - x^a}{\\Delta x}\\\\\n",
    "&=& \\lim_{\\Delta x \\to 0} \\frac{x^{a-1}((1+\\frac{\\Delta x}{x})^a - 1)}{\\Delta x / x }\n",
    "\\end{array}\n",
    "$$\n",
    "令$y = \\Delta x / x$，我们知道$(1+y)^a - 1 ~ ay$，所以$\\lim_{y \\to 0} \\frac{(1+y)^a -1}{y} = a$\n",
    "所以结论是$f'(x) = ax^{a-1}$。\n",
    "\n",
    "- (3) $f(x) = a^x (a>0, x \\in (-\\infty, +\\infty))$，求$f'(x)$.\n",
    "\n",
    "同样按照定义，我们有\n",
    "$$\n",
    "\\begin{array}{lcl}\n",
    "f'(x) &=& \\lim_{\\Delta x \\to 0}\\frac{a^{x+\\Delta x} - a^x}{\\Delta x}\\\\\n",
    "&= & a^x \\lim_{\\Delta x \\to 0} \\frac{a^{\\Delta x} - 1}{\\Delta x}\n",
    "\\end{array}\n",
    "$$\n",
    "令$y = a^{\\Delta x}$这时候需要求极限$\\ln a \\lim_{y \\to 1} \\frac{y - 1}{\\ln y}$， 令$y=t+1$，则有\n",
    "$$\n",
    "\\lim_{t \\to 0}\\frac{t}{\\ln(t+1)}\n",
    "$$\n",
    "根据前面的高阶无穷小有当$t \\to 0$时，$\\ln(t+1) = t + o(t)$，因此上面的极限值为1，因此\n",
    "$$\n",
    "f'(x) = a^x \\ln a \n",
    "$$\n",
    "\n",
    "- (4) $f(x) = \\log_a x$，求$f'(x)$。\n",
    "\n",
    "同样按照概念，我们有\n",
    "$$\n",
    "\\begin{array}{lcl}\n",
    "f'(x) &=& \\lim_{\\Delta x \\to 0}\\frac{\\log_a (1+\\frac{\\Delta x}{x})}{\\Delta x}\\\\\n",
    "&=& \\log_a \\lim_{\\Delta x \\to 0} (1 + \\frac{\\Delta x}{x})^{1/\\Delta x}\\\\\n",
    "&=& \\log_a e^{\\frac{1}{x}}\\\\\n",
    "&=& \\frac{1}{x} \\log_a e\n",
    "\\end{array}\n",
    "$$\n",
    "当$a=e$时，有$f'(x) = \\frac{1}{x}$"
   ]
  },
  {
   "cell_type": "markdown",
   "metadata": {},
   "source": [
    "## 3. 复合函数的求导"
   ]
  },
  {
   "cell_type": "code",
   "execution_count": null,
   "metadata": {
    "collapsed": true
   },
   "outputs": [],
   "source": []
  }
 ],
 "metadata": {
  "kernelspec": {
   "display_name": "Python 2",
   "language": "python",
   "name": "python2"
  },
  "language_info": {
   "codemirror_mode": {
    "name": "ipython",
    "version": 2
   },
   "file_extension": ".py",
   "mimetype": "text/x-python",
   "name": "python",
   "nbconvert_exporter": "python",
   "pygments_lexer": "ipython2",
   "version": "2.7.11"
  }
 },
 "nbformat": 4,
 "nbformat_minor": 0
}
