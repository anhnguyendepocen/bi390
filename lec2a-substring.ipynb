{
 "cells": [
  {
   "cell_type": "markdown",
   "metadata": {},
   "source": [
    "# Lecture 2A: Genome indexing - Substring indexing\n",
    "___"
   ]
  },
  {
   "cell_type": "markdown",
   "metadata": {},
   "source": [
    "In this lecture, we will introduce the substring indexing algorithm for the traditional method for indexing the reference genome when we do reads alignment against the  genome."
   ]
  },
  {
   "cell_type": "markdown",
   "metadata": {},
   "source": [
    "In order to index a string $T$, we need to extract the sequences (usually substrings), along with pointers back to where they occurred.\n",
    "\n",
    "## 1. `map` data structure: key-value pairs\n",
    "\n",
    "We usually organize the substrings as well as the pointers into a **map** data structure. Various map structures are available, all involving some mix of sorting/grouping (排序、组合).\n",
    "\n",
    "### 1.1 Sorted list\n",
    "Let's make a class that implements an inverted (substring) index where the map data sructure is \n",
    "> a sorted list of (substring, offset) pairs, a data structure appropriate for binary search."
   ]
  },
  {
   "cell_type": "code",
   "execution_count": 3,
   "metadata": {
    "collapsed": false
   },
   "outputs": [],
   "source": [
    "import sys\n",
    "import bisect # implementing binary search\n",
    "\n",
    "class IndexSorted(object):\n",
    "    \n",
    "    def __init__(self, t, ln=2):\n",
    "        \"\"\" Create index, extracting substrings of length 'ln' \"\"\"\n",
    "        self.t = t\n",
    "        self.ln = ln\n",
    "        self.index = []\n",
    "        for i in xrange(0, len(t)-ln+1):\n",
    "            self.index.append((t[i:i+ln], i)) # extract <substr, offset> pair and add into list\n",
    "        self.index.sort() # sort pairs\n",
    "    \n",
    "    def query(self, p):\n",
    "        \"\"\" Return candidate alignments for p \"\"\"\n",
    "        st = bisect.bisect_left(self.index, (p[:self.ln], -1)) # find first entries for matching\n",
    "        en = bisect.bisect_right(self.index, (p[:self.ln], sys.maxint)) # find last entries for matching\n",
    "        hits = self.index[st:en] # this range of elements corresponds to the hits\n",
    "        return [ h[1] for h in hits ] # return just the list of offsets"
   ]
  },
  {
   "cell_type": "markdown",
   "metadata": {},
   "source": [
    "Here is an example:"
   ]
  },
  {
   "cell_type": "code",
   "execution_count": 5,
   "metadata": {
    "collapsed": false
   },
   "outputs": [
    {
     "name": "stdout",
     "output_type": "stream",
     "text": [
      "[8, 12]\n",
      "[]\n",
      "[('ACTTA', 7), ('ACTTA', 11), ('CCTAC', 4), ('CGTGC', 0), ('CTACT', 5), ('CTTAC', 8), ('CTTAC', 12), ('GCCTA', 3), ('GTGCC', 1), ('TACAT', 14), ('TACTT', 6), ('TACTT', 10), ('TGCCT', 2), ('TTACA', 13), ('TTACT', 9)]\n"
     ]
    }
   ],
   "source": [
    "index = IndexSorted('CGTGCCTACTTACTTACAT', 5)\n",
    "print index.query('CTTACTTA') # list of 0-based index\n",
    "print index.query('TTTTTTTT') # list of 0-based index\n",
    "print index.index"
   ]
  },
  {
   "cell_type": "markdown",
   "metadata": {},
   "source": [
    "### Query of $P$ against $T$\n",
    "1. Create the sorted index for the target sequence, $T$. That is, sorted table of `ln`-long substrings, along with their corresponding offsets.\n",
    "2. Extract `ln`-long prefix for $P$\n",
    "3. Look up the prefix in the index\n",
    "4. Investigate all hits"
   ]
  },
  {
   "cell_type": "code",
   "execution_count": 11,
   "metadata": {
    "collapsed": true
   },
   "outputs": [],
   "source": [
    "def queryIndex(p, t, ln=2):\n",
    "    '''look for occurrences of p in t'''\n",
    "    index = IndexSorted(t, ln)  ## create for t the index of lenth ln\n",
    "    occurrences = []\n",
    "    for i in index.query(p):\n",
    "        if t[i+ln:i+len(p)] == p[ln:]:\n",
    "            occurrences.append(i)\n",
    "    return(occurrences)"
   ]
  },
  {
   "cell_type": "code",
   "execution_count": 12,
   "metadata": {
    "collapsed": false
   },
   "outputs": [
    {
     "name": "stdout",
     "output_type": "stream",
     "text": [
      "[8]\n"
     ]
    }
   ],
   "source": [
    "T = 'CGTGCCTACTTACTTACAT'\n",
    "P = 'CTTACTTA'\n",
    "print queryIndex(P, T)"
   ]
  },
  {
   "cell_type": "markdown",
   "metadata": {},
   "source": [
    "### <font color=\"red\">$\\S$ Exercise 1</font>\n",
    "\n",
    "For human genome, how much memory would it take for building index of length-4 substrings?  Do you think it can be done on your PC?"
   ]
  },
  {
   "cell_type": "markdown",
   "metadata": {},
   "source": [
    "###  1.2 Variants of sorted list of (substring, offset)\n",
    "\n",
    "1. Extract substrings from reference, with a given `length=ln` and `interval=x`, then build the sorted index.\n",
    "2. Extract first `x` substring for $P$, and  do lookup for each."
   ]
  },
  {
   "cell_type": "code",
   "execution_count": 29,
   "metadata": {
    "collapsed": false
   },
   "outputs": [],
   "source": [
    "import sys\n",
    "import bisect # implementing binary search\n",
    "\n",
    "class IndexSorted2(object):\n",
    "    \n",
    "    def __init__(self, t, ln=2, interval=2):\n",
    "        \"\"\" Create index, extracting substrings of length 'ln' \"\"\"\n",
    "        self.t = t\n",
    "        self.ln = ln\n",
    "        self.interval = interval\n",
    "        self.index = []\n",
    "        for i in xrange(0, len(t)-ln+1, interval):\n",
    "            self.index.append((t[i:i+ln], i)) # extract <substr, offset> pair and add into list\n",
    "        self.index.sort() # sort pairs\n",
    "    \n",
    "    def query(self, p):\n",
    "        \"\"\" Return candidate alignments for p \"\"\"\n",
    "        st = bisect.bisect_left(self.index, (p[:self.ln], -1)) # find first entries for matching\n",
    "        en = bisect.bisect_right(self.index, (p[:self.ln], sys.maxint)) # find last entries for matching\n",
    "        hits = self.index[st:en] # this range of elements corresponds to the hits\n",
    "        return [ h[1] for h in hits ] # return just the list of offsets\n",
    "    \n",
    "def queryIndex2(p, t, ln=2, interval=2):\n",
    "    '''look for occurrences of p in t with the help of substring index with interval of  length ln'''\n",
    "    index = IndexSorted2(t, ln, interval)\n",
    "    occurrences = []\n",
    "    for k in xrange(0, interval):\n",
    "        for i in index.query(p[k:]):\n",
    "            if t[i-k:i] == p[:k] and t[i+ln:i+len(p)-k] == p[k+ln:]:\n",
    "                occurrences.append(i-k)\n",
    "    return sorted(occurrences)"
   ]
  },
  {
   "cell_type": "code",
   "execution_count": 33,
   "metadata": {
    "collapsed": false
   },
   "outputs": [
    {
     "name": "stdout",
     "output_type": "stream",
     "text": [
      "[8]\n"
     ]
    }
   ],
   "source": [
    "T = 'CGTGCCTACTTACTTACAT'\n",
    "P = 'CTTACTTA'\n",
    "print queryIndex2(P, T, 4, 4)"
   ]
  },
  {
   "cell_type": "markdown",
   "metadata": {
    "collapsed": false
   },
   "source": [
    "### 1.3 Dictionary-like structure - hash table\n",
    "\n",
    "Now let's make a similar class but using a Python dictionary instead of a sorted list.  A Python dictionary is basically a hash table."
   ]
  },
  {
   "cell_type": "code",
   "execution_count": 5,
   "metadata": {
    "collapsed": false
   },
   "outputs": [],
   "source": [
    "class IndexHash(object):\n",
    "    \n",
    "    def __init__(self, t, ln, ival):\n",
    "        \"\"\" Create index, extracting substrings of length 'ln' \"\"\"\n",
    "        self.t = t\n",
    "        self.ln = ln\n",
    "        self.ival = ival\n",
    "        self.index = {}\n",
    "        for i in xrange(0, len(t)-ln+1):\n",
    "            substr = t[i:i+ln]\n",
    "            if substr in self.index:\n",
    "                self.index[substr].append(i) # substring already in dictionary\n",
    "            else:\n",
    "                self.index[substr] = [i] # add to dictionary\n",
    "    \n",
    "    def query(self, p):\n",
    "        \"\"\" Return candidate alignments for p \"\"\"\n",
    "        return self.index.get(p[:self.ln], [])"
   ]
  },
  {
   "cell_type": "markdown",
   "metadata": {},
   "source": [
    "And here are some examples for using hash table:"
   ]
  },
  {
   "cell_type": "code",
   "execution_count": 10,
   "metadata": {
    "collapsed": false
   },
   "outputs": [],
   "source": [
    "index2 = IndexHash('CGTGCCTACTTACTTACAT', 5, 4)\n",
    "print index2.query('CTTACTTA') \n",
    "print index2.query('TTTTTTTT') "
   ]
  },
  {
   "cell_type": "markdown",
   "metadata": {
    "collapsed": false
   },
   "source": [
    "### 1.4 Trie\n",
    "\n",
    "A trie is a tree representing a collection of strings with one node per common prefix. \n",
    "\n",
    "A trie is the smallest tree such that:\n",
    "   - Each key is \"spelled out\" along some path starting at the root. \n",
    "   - Each edge is labeled with a character $c \\in \\Sigma$. \n",
    "   - A node has at most one outgoing edge labeled $c$, for $c \\in \\Sigma$. \n",
    "\n",
    "Trie is a natural way to represent either a set or a map where keys are strings.\n",
    "\n",
    "We can index $T$ with a trie, like this:\n",
    "\n",
    "![](images/trie.png)"
   ]
  },
  {
   "cell_type": "code",
   "execution_count": 13,
   "metadata": {
    "collapsed": true
   },
   "outputs": [],
   "source": [
    "class TrieMap(object):\n",
    "    \"\"\" Trie implementation of a map.  Associating keys (strings or other\n",
    "        sequence type) with values.  Values can be any type. \"\"\"\n",
    "    \n",
    "    def __init__(self, kvs):\n",
    "        self.root = {}\n",
    "        # For each key (string)/value pair\n",
    "        for (k, v) in kvs: self.add(k, v)\n",
    "    \n",
    "    def add(self, k, v):\n",
    "        \"\"\" Add a key-value pair \"\"\"\n",
    "        cur = self.root\n",
    "        for c in k: # for each character in the string\n",
    "            if c not in cur:\n",
    "                cur[c] = {} # if not there, make new edge on character c\n",
    "            cur = cur[c]\n",
    "        cur['value'] = v # at the end of the path, add the value\n",
    "    \n",
    "    def query(self, k, ln):\n",
    "        \"\"\" Given key, return associated value or None \"\"\"\n",
    "        cur = self.root\n",
    "        for c in k[:ln]:\n",
    "            if c not in cur:\n",
    "                return None # key wasn't in the trie\n",
    "            cur = cur[c]\n",
    "        # get value, or None if there's no value associated with this node\n",
    "        return cur.get('value')"
   ]
  },
  {
   "cell_type": "code",
   "execution_count": 19,
   "metadata": {
    "collapsed": false
   },
   "outputs": [
    {
     "data": {
      "text/plain": [
       "[8, 12]"
      ]
     },
     "execution_count": 19,
     "metadata": {},
     "output_type": "execute_result"
    }
   ],
   "source": [
    "kvs =[('ACTTA', 7), ('ACTTA', 11), ('CCTAC', 4), ('CGTGC', 0), ('CTACT', 5), ('CTTAC', [8, 12]), ('GCCTA', 3), ('GTGCC', 1),  ('TACAT', 14), ('TACTT', 6), ('TACTT',10), ('TGCCT', 2), ('TTACA', 13), ('TTACT', 9)]\n",
    "genome = TrieMap(kvs)\n",
    "genome.query('CTTACACT', 5)\n"
   ]
  },
  {
   "cell_type": "markdown",
   "metadata": {},
   "source": [
    "There are many other tree structure to store keys or maps with string keys, such as binary or ternary search trees.\n",
    "\n",
    "#### Reference\n",
    "Bentley, Jon L., and Robert Sedgewick. **Fast algorithms for sorting and searching strings**. Proceedings of the eighth annual ACM-SIAM symposium on Discrete algorithms. 1997"
   ]
  },
  {
   "cell_type": "markdown",
   "metadata": {},
   "source": [
    "### Summary\n",
    "\n",
    "All the above methods are based upon key-value pairs of the **length=ln** subtrings and their offsets:\n",
    ">  [(key, offset) for key in substr(genome, ln)]\n",
    "\n",
    "But we use different data structure to store the keys. And these data structures have different properties.\n",
    "\n",
    "1. Sorted list: $\\mathcal{O}(\\log m)$ query time, only stores keys (substring of length `ln`) and values (offsets);\n",
    "2. Hash: $\\mathcal{O}(1)$ query time, but need to store keys, values, bucket array, and pointers.\n",
    "3. Trie:  $\\mathcal{O}(n)$ query time, need to store the tree structure.\n",
    "\n",
    "where $m, n$ are the respective lengths for the corresponding genome and read."
   ]
  },
  {
   "cell_type": "markdown",
   "metadata": {},
   "source": [
    "### <font color=\"red\">$\\S$ Exercise 2</font>\n",
    "\n",
    "1. Tell the memory requirement for the above indexing data structures for a human genome.\n",
    "2. Which indexing method does BLAST, the popular alignment tool, adopt?"
   ]
  },
  {
   "cell_type": "markdown",
   "metadata": {},
   "source": [
    "In the next lecture, we will introduce the **suffix-based indexing**."
   ]
  }
 ],
 "metadata": {
  "kernelspec": {
   "display_name": "Python [default]",
   "language": "python",
   "name": "python2"
  },
  "language_info": {
   "codemirror_mode": {
    "name": "ipython",
    "version": 2
   },
   "file_extension": ".py",
   "mimetype": "text/x-python",
   "name": "python",
   "nbconvert_exporter": "python",
   "pygments_lexer": "ipython2",
   "version": "2.7.12"
  }
 },
 "nbformat": 4,
 "nbformat_minor": 0
}
