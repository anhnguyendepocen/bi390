{
 "cells": [
  {
   "cell_type": "markdown",
   "metadata": {},
   "source": [
    "# Lab 2: Shallow comparative studies of DNA-read aligners with simulated reads\n",
    "___"
   ]
  },
  {
   "cell_type": "markdown",
   "metadata": {},
   "source": [
    "In this lab, we will take a look at the performance of several popular short-read aligners in the era of next-generation-sequencing (NGS). \n",
    "\n",
    "Before doing this, I should state that this cannot work as the benchmark for choosing the best aligner since\n",
    "- the analysis can be misleading due to the choice of the genome as well as the read length;\n",
    "- we only use the default settings without tuning for the parameters for these aligners.\n",
    "\n",
    "Instead, our intention is just to provide our students some of the practical issues when conducting analysis of the available tools online.\n",
    "\n",
    "We will choose the following aligners for conducting comparisons:\n",
    "1. [bwa](http://bwa-bio.sourceforge.net) (both `bwa mem` and `bwa aln`)\n",
    "2. [Bowtie2](http://bowtie-bio.sourceforge.net/bowtie2)\n",
    "3. [SOAPaligner](http://soap.genomics.org.cn)\n",
    "4. [SubRead](http://subread.sourceforge.net/)\n",
    "5. [STAR](https://github.com/alexdobin/STAR)\n",
    "6. [blast](http://www.ncbi.nlm.nih.gov/blast)\n",
    "\n",
    "In fact, STAR is an RNA-Seq aligner, and we mix this tool here to work as the baseline.\n",
    "\n",
    "In addition, you need to pre-install the following tools for assistance of the analysis:\n",
    "1. [samtools](http://samtools.sourceforge.net)\n",
    "2. [bedtools](http://quinlanlab.org/tutorials/bedtools/bedtools.html)\n",
    "3. [EMBOSS](http://emboss.sourceforge.net)\n",
    "\n",
    "Of course, you can include the other tools for comparison, like BLAST. But to keep in mind that you should convert the output into SAM format for comparison. For example, you need to use the tool,  [Blast2Bam](https://github.com/guyduche/Blast2Bam), to transform the BLAST output into SAM records. Or if you use NCBI BLAST+ 2.2.31, it can generate SAM result by setting `-outfmt=15`.\n",
    "\n",
    "When doing the analysis, you need to specify the version of the above tools, since different version will produce a somewhat different result.\n",
    "\n",
    "> <p><font color=\"red\">REMEMBER that the bacterial genome is circular.</font></p>"
   ]
  },
  {
   "cell_type": "markdown",
   "metadata": {},
   "source": [
    "## 1. Genome preparation\n",
    "\n",
    "In order to save time, here we will choose some of the smaller genomes, like some bacteria and some simple eukaryotes such as *Arabidopsis*.\n",
    "\n",
    "The first thing you need to do is to download your genome of interest (GOI) from either [NCBI-ftp](ftp://ftp.ncbi.nlm.nih.gov/genomes/) or [ENSEMBL-ftp](http://asia.ensembl.org/info/data/ftp/index.html) site and build the index for the above tools, respectively.\n",
    "\n",
    "If you don't know how to create the index, please turn to their documentations for help."
   ]
  },
  {
   "cell_type": "markdown",
   "metadata": {},
   "source": [
    "## 2. Reads simulation\n",
    "\n",
    "The next step is to generate the pseodo-reads that uniformly cover the GOI in user-selected read lengths and intervals. And then output them in **FASTA format**. Here is an example:\n",
    "```\n",
    ">1-0-50\n",
    "CCCTAAACCCTAAACCCTAAACCCTAAACCTCTGAATCCTTAATCCCTAA\n",
    ">1-10-60\n",
    "TAAACCCTAAACCCTAAACCTCTGAATCCTTAATCCCTAAATCCCTAAAT\n",
    ">1-20-70\n",
    "ACCCTAAACCTCTGAATCCTTAATCCCTAAATCCCTAAATCTTTAAATCC\n",
    "```\n",
    "Here the reads are named in the format of **CHROM-START-END** for the convenience of further analysis of accuracy.\n",
    "\n",
    "This can be done by chaining some `awk` and `bedtools` commands:\n",
    "\n",
    "```bash\n",
    "#!/bin/bash\n",
    "CHR=Arabidopsis_thaliana.TAIR10.23.dna.genome_fmt.g \n",
    "GENOMEFA=Arabidopsis_thaliana.TAIR10.23.dna.genome_fmt.fa\n",
    "\n",
    "READLENGTHRANGE='50 100 200'\n",
    "STEP=10\n",
    "PFX=simDNA_\n",
    "\n",
    "for RDLEN in $READLENGTHRANGE\n",
    "do\n",
    "    echo $RDLEN\n",
    "    bedtools makewindows -w $RDLEN -s $STEP -g $CHR \\\n",
    "        | awk -v L=$RDLEN '($3-$2)==L' \\\n",
    "        | bedtools getfasta -fi $GENOMEFA -bed /dev/stdin -fo /dev/stdout \\\n",
    "        | tr ':' '-' | gzip  > ${PFX}${RDLEN}bp.fasta.gz  &\n",
    "done\n",
    "wait\n",
    "```\n",
    "\n",
    "You can change the settings by modifying the PARAMETERS like *CHR*, *GENOMEFA*, *READLENGTHRANGE*, *STEP* and *PFX*."
   ]
  },
  {
   "cell_type": "markdown",
   "metadata": {},
   "source": [
    "## 3. Reads mutations\n",
    "\n",
    "Next you need to incorporate mutations into the reads with [msbar](http://emboss.sourceforge.net/apps/release/6.0/emboss/apps/msbar.html), a neat little EMBOSS tool which introduces mutations (SNP/insertions/deletions) into sequences at a pre-set rate.\n",
    "\n",
    "```bash\n",
    "#!/bin/bash\n",
    "for FQZ in simDNA_50bp.fasta.gz simDNA_100bp.fasta.gz simDNA_200bp.fasta.gz\n",
    "do\n",
    "    for COUNT in 1 2 4 8 16\n",
    "    do\n",
    "\n",
    "        BASE=`echo $FQZ | sed 's/.fasta.gz//'`\n",
    "\n",
    "        gzip -cd ${FQZ} \\\n",
    "            | msbar -sequence /dev/stdin -count $COUNT \\\n",
    "            -point 4 -block 0 -codon 0 -outseq /dev/stdout 2>/dev/null \\\n",
    "            | sed -n '/^>/!{H;$!b};s/$/ /;x;1b;s/\\n//g;p' \\\n",
    "            | sed 's/ /\\n/' | gzip > ${BASE}_${COUNT}snp.fasta.gz &\n",
    "\n",
    "        gzip -cd ${FQZ} \\\n",
    "           | msbar -sequence /dev/stdin -count $COUNT \\\n",
    "           -point 2 -block 0 -codon 0 -outseq /dev/stdout 2>/dev/null \\\n",
    "           | sed -n '/^>/!{H;$!b};s/$/ /;x;1b;s/\\n//g;p' \\\n",
    "           | sed 's/ /\\n/' | gzip  > ${BASE}_${COUNT}ins.fasta.gz &\n",
    "\n",
    "        gzip -cd ${FQZ} \\\n",
    "            | msbar -sequence /dev/stdin -point 3 -count $COUNT \\\n",
    "            -block 0 -codon 0 -outseq /dev/stdout 2>/dev/null \\\n",
    "            | sed -n '/^>/!{H;$!b};s/$/ /;x;1b;s/\\n//g;p' \\\n",
    "            | sed 's/ /\\n/' | gzip  > ${BASE}_${COUNT}del.fasta.gz &\n",
    "\n",
    "        wait\n",
    "    done\n",
    "done\n",
    "```\n",
    "\n",
    "Here we only consider the SNP, 1-base inserts and deletions respectively. But in real-world problems, these may be much more complex. If you like, you can change the settings for `msbar` to obtain more complicated situations."
   ]
  },
  {
   "cell_type": "markdown",
   "metadata": {},
   "source": [
    "## 4. Alignment of the simulated reads against the genome\n",
    "\n",
    "Here we give a `bwa-mem` example to illustrate the process:\n",
    "\n",
    "```bash\n",
    "#!/bin/bash\n",
    "REF=/path/to/bwa/index/Arabidopsis_thaliana.TAIR10.23.dna_sm.genome.fa\n",
    "for FQZ in *fasta.gz\n",
    "do\n",
    "    FQ=`basename $FQZ .gz`\n",
    "    gzip -cd $FQZ | tee $FQ \\\n",
    "        | bwa mem -t 8 $REF - \\\n",
    "        | samtools view -uSh - \\\n",
    "        | samtools sort - ${FQ}_bwamem.sort\n",
    "done\n",
    "\n",
    "for BAM in *_bwamem.sort.bam ; do\n",
    "    samtools index $BAM &\n",
    "done\n",
    "\n",
    "for BAM in *_bwamem.sort.bam ; do \n",
    "    samtools flagstat $BAM > ${BAM}.stats &\n",
    "done\n",
    "\n",
    "wait\n",
    "```"
   ]
  },
  {
   "cell_type": "markdown",
   "metadata": {},
   "source": [
    "## 5. Analysis of the results\n",
    "\n",
    "To determine the number of correctly and incorrectly assigned reads, use `samtools` and `awk` to check the sequence header matched the mapping location. \n",
    "\n",
    "We set a **MAPQ threshold of 10** which is one that is commonly used.\n",
    "\n",
    "Have a look at how these aligners fared with unmutated, perfect reads, and also the mutated ones. Compare their performance using the following metrics in the form of either tables or diagrams:\n",
    "\n",
    "- (1) **efficiency**: running time\n",
    "- (2) **accuracy**: accurately mapped vs. inaccurately mapped\n",
    "- (3) **robustness** to mutations\n",
    "- (4) unmapped vs. mapped"
   ]
  },
  {
   "cell_type": "markdown",
   "metadata": {},
   "source": [
    "## 6. Discussion\n",
    "\n",
    "Comments on the above results and also, both the advantages and limitations of our approach."
   ]
  }
 ],
 "metadata": {
  "kernelspec": {
   "display_name": "Bash",
   "language": "bash",
   "name": "bash"
  },
  "language_info": {
   "codemirror_mode": "shell",
   "file_extension": ".sh",
   "mimetype": "text/x-sh",
   "name": "bash"
  }
 },
 "nbformat": 4,
 "nbformat_minor": 0
}
