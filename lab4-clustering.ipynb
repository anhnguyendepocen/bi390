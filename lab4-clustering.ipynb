{
 "cells": [
  {
   "cell_type": "markdown",
   "metadata": {},
   "source": [
    "# Lab 4: Clustering Analysis of Microarray Data\n",
    "___"
   ]
  },
  {
   "cell_type": "markdown",
   "metadata": {},
   "source": [
    "In this lab, we will apply both the $k$-means and spectral clusteirng methods on a microarray data, **GSE6791**. Before doing this, you need to execute some preprocessing steps like noise correction, $\\log_2$ transform, normalization and etc."
   ]
  },
  {
   "cell_type": "markdown",
   "metadata": {},
   "source": [
    "## 1. Download the microarray raw data from GEO "
   ]
  },
  {
   "cell_type": "code",
   "execution_count": null,
   "metadata": {
    "collapsed": true
   },
   "outputs": [],
   "source": []
  },
  {
   "cell_type": "markdown",
   "metadata": {},
   "source": [
    "## 2. Do some preprocessing of the data"
   ]
  },
  {
   "cell_type": "code",
   "execution_count": null,
   "metadata": {
    "collapsed": true
   },
   "outputs": [],
   "source": []
  },
  {
   "cell_type": "markdown",
   "metadata": {},
   "source": [
    "## 3. Find differentially expressed genes (optional but recommended)"
   ]
  },
  {
   "cell_type": "code",
   "execution_count": null,
   "metadata": {
    "collapsed": true
   },
   "outputs": [],
   "source": []
  },
  {
   "cell_type": "markdown",
   "metadata": {},
   "source": [
    "## 4. Apply $k$-means and spectral clustering algorithm on the data\n",
    "\n",
    "You can apply the analysis either on the normalized full data set, or only those genes that are statistically significantly expressed between different subgroups.\n",
    "\n",
    "You should cluster both the samples, and the genes."
   ]
  },
  {
   "cell_type": "code",
   "execution_count": null,
   "metadata": {
    "collapsed": true
   },
   "outputs": [],
   "source": []
  },
  {
   "cell_type": "markdown",
   "metadata": {},
   "source": [
    "## 5. Evaluate the performance of the above two algorithm\n",
    "\n",
    "The assessment should be conducted based on both the internal criteria and external criteria, as we described in our class.\n",
    "\n",
    "The external benchmark for the genes can be obtained from GO, KEGG, or just the modules compiled from your analysis on the protein-protein interaction network. You can use the most siginificantly enriched term  (obtained through gene set enrichment analysis) as the label for a cluster.\n",
    "\n",
    "We here use the hard classification, not fuzzy classification."
   ]
  },
  {
   "cell_type": "code",
   "execution_count": null,
   "metadata": {
    "collapsed": true
   },
   "outputs": [],
   "source": []
  }
 ],
 "metadata": {
  "kernelspec": {
   "display_name": "Bash",
   "language": "bash",
   "name": "bash"
  },
  "language_info": {
   "codemirror_mode": "shell",
   "file_extension": ".sh",
   "mimetype": "text/x-sh",
   "name": "bash"
  }
 },
 "nbformat": 4,
 "nbformat_minor": 0
}
